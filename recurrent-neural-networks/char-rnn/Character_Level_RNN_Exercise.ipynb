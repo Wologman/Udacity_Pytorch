{
 "cells": [
  {
   "cell_type": "markdown",
   "metadata": {},
   "source": [
    "# Character-Level LSTM in PyTorch\n",
    "\n",
    "In this notebook, I'll construct a character-level LSTM with PyTorch. The network will train character by character on some text, then generate new text character by character. As an example, I will train on Anna Karenina. **This model will be able to generate new text based on the text from the book!**\n",
    "\n",
    "This network is based off of Andrej Karpathy's [post on RNNs](http://karpathy.github.io/2015/05/21/rnn-effectiveness/) and [implementation in Torch](https://github.com/karpathy/char-rnn). Below is the general architecture of the character-wise RNN.\n",
    "\n",
    "<img src=\"assets/charseq.jpeg\" width=\"500\">"
   ]
  },
  {
   "cell_type": "markdown",
   "metadata": {},
   "source": [
    "First let's load in our required resources for data loading and model creation."
   ]
  },
  {
   "cell_type": "code",
   "execution_count": 1,
   "metadata": {},
   "outputs": [],
   "source": [
    "import numpy as np\n",
    "import torch\n",
    "from torch import nn\n",
    "import torch.nn.functional as F"
   ]
  },
  {
   "cell_type": "markdown",
   "metadata": {},
   "source": [
    "## Load in Data\n",
    "\n",
    "Then, we'll load the Anna Karenina text file and convert it into integers for our network to use. "
   ]
  },
  {
   "cell_type": "code",
   "execution_count": 2,
   "metadata": {},
   "outputs": [],
   "source": [
    "# open text file and read in data as `text`\n",
    "with open('data/anna.txt', 'r') as f:\n",
    "    text = f.read()"
   ]
  },
  {
   "cell_type": "markdown",
   "metadata": {},
   "source": [
    "Let's check out the first 100 characters, make sure everything is peachy. According to the [American Book Review](http://americanbookreview.org/100bestlines.asp), this is the 6th best first line of a book ever."
   ]
  },
  {
   "cell_type": "code",
   "execution_count": 3,
   "metadata": {},
   "outputs": [
    {
     "data": {
      "text/plain": [
       "'Chapter 1\\n\\n\\nHappy families are all alike; every unhappy family is unhappy in its own\\nway.\\n\\nEverythin'"
      ]
     },
     "execution_count": 3,
     "metadata": {},
     "output_type": "execute_result"
    }
   ],
   "source": [
    "text[:100]"
   ]
  },
  {
   "cell_type": "markdown",
   "metadata": {},
   "source": [
    "### Tokenization\n",
    "\n",
    "In the cells, below, I'm creating a couple **dictionaries** to convert the characters to and from integers. Encoding the characters as integers makes it easier to use as input in the network."
   ]
  },
  {
   "cell_type": "code",
   "execution_count": 4,
   "metadata": {},
   "outputs": [],
   "source": [
    "# encode the text and map each character to an integer and vice versa\n",
    "\n",
    "# we create two dictionaries:\n",
    "# 1. int2char, which maps integers to characters\n",
    "# 2. char2int, which maps characters to unique integers\n",
    "chars = tuple(set(text))\n",
    "int2char = dict(enumerate(chars))\n",
    "char2int = {ch: ii for ii, ch in int2char.items()}\n",
    "\n",
    "# encode the text\n",
    "encoded = np.array([char2int[ch] for ch in text])"
   ]
  },
  {
   "cell_type": "markdown",
   "metadata": {},
   "source": [
    "And we can see those same characters from above, encoded as integers."
   ]
  },
  {
   "cell_type": "code",
   "execution_count": 5,
   "metadata": {},
   "outputs": [
    {
     "data": {
      "text/plain": [
       "array([15, 65, 22,  9, 39, 78, 27, 44,  5, 40, 40, 40, 80, 22,  9,  9, 48,\n",
       "       44, 17, 22, 10, 37, 72, 37, 78, 31, 44, 22, 27, 78, 44, 22, 72, 72,\n",
       "       44, 22, 72, 37, 24, 78,  1, 44, 78, 70, 78, 27, 48, 44, 46, 42, 65,\n",
       "       22,  9,  9, 48, 44, 17, 22, 10, 37, 72, 48, 44, 37, 31, 44, 46, 42,\n",
       "       65, 22,  9,  9, 48, 44, 37, 42, 44, 37, 39, 31, 44, 71, 69, 42, 40,\n",
       "       69, 22, 48, 79, 40, 40, 54, 70, 78, 27, 48, 39, 65, 37, 42])"
      ]
     },
     "execution_count": 5,
     "metadata": {},
     "output_type": "execute_result"
    }
   ],
   "source": [
    "encoded[:100]"
   ]
  },
  {
   "cell_type": "markdown",
   "metadata": {},
   "source": [
    "## Pre-processing the data\n",
    "\n",
    "As you can see in our char-RNN image above, our LSTM expects an input that is **one-hot encoded** meaning that each character is converted into an integer (via our created dictionary) and *then* converted into a column vector where only it's corresponding integer index will have the value of 1 and the rest of the vector will be filled with 0's. Since we're one-hot encoding the data, let's make a function to do that!\n"
   ]
  },
  {
   "cell_type": "code",
   "execution_count": 6,
   "metadata": {},
   "outputs": [],
   "source": [
    "def one_hot_encode(arr, n_labels):\n",
    "    \n",
    "    # Initialize the the encoded array\n",
    "    one_hot = np.zeros((arr.size, n_labels), dtype=np.float32)\n",
    "    \n",
    "    # Fill the appropriate elements with ones\n",
    "    one_hot[np.arange(one_hot.shape[0]), arr.flatten()] = 1.\n",
    "    \n",
    "    # Finally reshape it to get back to the original array\n",
    "    one_hot = one_hot.reshape((*arr.shape, n_labels))\n",
    "    \n",
    "    return one_hot"
   ]
  },
  {
   "cell_type": "code",
   "execution_count": 7,
   "metadata": {},
   "outputs": [
    {
     "name": "stdout",
     "output_type": "stream",
     "text": [
      "[[[0. 0. 0. 1. 0. 0. 0. 0.]\n",
      "  [0. 0. 0. 0. 0. 1. 0. 0.]\n",
      "  [0. 1. 0. 0. 0. 0. 0. 0.]]]\n"
     ]
    }
   ],
   "source": [
    "# check that the function works as expected\n",
    "test_seq = np.array([[3, 5, 1]])\n",
    "one_hot = one_hot_encode(test_seq, 8)\n",
    "\n",
    "print(one_hot)"
   ]
  },
  {
   "cell_type": "markdown",
   "metadata": {},
   "source": [
    "## Making training mini-batches\n",
    "\n",
    "\n",
    "To train on this data, we also want to create mini-batches for training. Remember that we want our batches to be multiple sequences of some desired number of sequence steps. Considering a simple example, our batches would look like this:\n",
    "\n",
    "<img src=\"assets/sequence_batching@1x.png\" width=500px>\n",
    "\n",
    "\n",
    "<br>\n",
    "\n",
    "In this example, we'll take the encoded characters (passed in as the `arr` parameter) and split them into multiple sequences, given by `batch_size`. Each of our sequences will be `seq_length` long.\n",
    "\n",
    "### Creating Batches\n",
    "\n",
    "**1. The first thing we need to do is discard some of the text so we only have completely full mini-batches. **\n",
    "\n",
    "Each batch contains $N \\times M$ characters, where $N$ is the batch size (the number of sequences in a batch) and $M$ is the seq_length or number of time steps in a sequence. Then, to get the total number of batches, $K$, that we can make from the array `arr`, you divide the length of `arr` by the number of characters per batch. Once you know the number of batches, you can get the total number of characters to keep from `arr`, $N * M * K$.\n",
    "\n",
    "**2. After that, we need to split `arr` into $N$ batches. ** \n",
    "\n",
    "You can do this using `arr.reshape(size)` where `size` is a tuple containing the dimensions sizes of the reshaped array. We know we want $N$ sequences in a batch, so let's make that the size of the first dimension. For the second dimension, you can use `-1` as a placeholder in the size, it'll fill up the array with the appropriate data for you. After this, you should have an array that is $N \\times (M * K)$.\n",
    "\n",
    "**3. Now that we have this array, we can iterate through it to get our mini-batches. **\n",
    "\n",
    "The idea is each batch is a $N \\times M$ window on the $N \\times (M * K)$ array. For each subsequent batch, the window moves over by `seq_length`. We also want to create both the input and target arrays. Remember that the targets are just the inputs shifted over by one character. The way I like to do this window is use `range` to take steps of size `n_steps` from $0$ to `arr.shape[1]`, the total number of tokens in each sequence. That way, the integers you get from `range` always point to the start of a batch, and each window is `seq_length` wide.\n",
    "\n",
    "> **TODO:** Write the code for creating batches in the function below. The exercises in this notebook _will not be easy_. I've provided a notebook with solutions alongside this notebook. If you get stuck, checkout the solutions. The most important thing is that you don't copy and paste the code into here, **type out the solution code yourself.**"
   ]
  },
  {
   "cell_type": "code",
   "execution_count": 20,
   "metadata": {},
   "outputs": [],
   "source": [
    "def get_batches(arr, batch_size, seq_length):\n",
    "    '''Create a generator that returns batches of size\n",
    "       batch_size x seq_length from arr.\n",
    "       \n",
    "       Arguments\n",
    "       ---------\n",
    "       arr: Array you want to make batches from\n",
    "       batch_size: Batch size, the number of sequences per batch\n",
    "       seq_length: Number of encoded chars in a sequence\n",
    "    '''\n",
    "    \n",
    "    ## TODO: Get the number of batches we can make\n",
    "    \n",
    "    # Pseudocode: \n",
    "    # Find the number of characters in the array: len(array)\n",
    "    # Divide by size of each batch (batch_size*seq_length) and drop the remainder by doing floor division //\n",
    "    \n",
    "    n_batches = len(arr)//(batch_size*seq_length)\n",
    "    \n",
    "    ## TODO: Keep only enough characters to make full batches\n",
    "    \n",
    "    arr = arr[:n_batches*batch_size*seq_length]\n",
    "    \n",
    "    ## TODO: Reshape into batch_size rows\n",
    "    arr = arr.reshape((batch_size, -1)) # Batch_Size is the number of rows (sequences/batch), -1 is a placeholder\n",
    "    # The dimensions will end up being batch_size x (n_batches*seq_length) \n",
    "    # So at this point it is bach_size tall, but really really wide.\n",
    "    \n",
    "    ## TODO: Iterate over the batches using a window of size seq_length\n",
    "    for n in range(0, arr.shape[1], seq_length): #Starts at 0, stops at number of cols in arr, moves by seq_length\n",
    "        # The features\n",
    "        x = arr[:,n:n+seq_length]\n",
    "        \n",
    "        # Hold on, how come this doesn't just over-write x with every loop?\n",
    "        # Answer: it does, the key to this seems to be to understand the \"yield\" statement used in this loop, \n",
    "        # This isn't a normal funtion, it is a \"generator\", it keeps it's current state in memory\n",
    "        # n, batch_size, seq_length, n_batches, arr, x, y,\n",
    "        # and 'yields' only the bit we need.  In this case the single batch.\n",
    "        # The bach will be a 2d array batch_size tall x seq_length wide.\n",
    "        \n",
    "        # The targets, shifted by one  #note that python can't deal with indices > len(arr)\n",
    "        #y = np.zeros_like(x)\n",
    "        \n",
    "        # My first attempt here: \n",
    "        #if (n < arr.shape[1]):   # Restricting n to values that have an index in the array.\n",
    "        #    y  = arr[:,n+1:n+seq_length+1]  # slices arr one on from x\n",
    "        #else:\n",
    "        #    y[:, 0:seq_length] = arr[:,n+1:n+seq_length+1]  # fill up all except the last\n",
    "        #    y[:, seq_length]  = arr[:,0]  # fill up the last column \n",
    "        #yield x, y\n",
    "        \n",
    "        # This looked OK, but ran into trouble later when I came to form a view, being told issues\n",
    "        # about contiguousness. Probably due to the way the values were dragged out of arr.\n",
    "        \n",
    "        # The worked solution for the last bit:\n",
    "        y = np.zeros_like(x)  # makes an array of zeros the required size\n",
    "        try:\n",
    "            y[:, :-1], y[:, -1] = x[:, 1:], arr[:, n+seq_length]  # See below\n",
    "            #The first component is to fill every row up to (not including) the last col. of y, = x row shifted one\n",
    "        #   The second component fills just the last col in every row with the first item in the next sequence \n",
    "        except IndexError:\n",
    "            y[:, :-1], y[:, -1] = x[:, 1:], arr[:, 0]  # See below\n",
    "        #   This is the same, except that where the index would be out of range, we specify 0 (the first entry)\n",
    "        yield x, y\n",
    "        # The key difference here is that the it slices the x NumPy array, instead of arr for all but the last\n",
    "        # entry. This seems to solve the later problem of trying to use view to shape a non-contiguous array."
   ]
  },
  {
   "cell_type": "markdown",
   "metadata": {},
   "source": [
    "### Test Your Implementation\n",
    "\n",
    "Now I'll make some data sets and we can check out what's going on as we batch data. Here, as an example, I'm going to use a batch size of 8 and 50 sequence steps."
   ]
  },
  {
   "cell_type": "code",
   "execution_count": 21,
   "metadata": {},
   "outputs": [],
   "source": [
    "batches = get_batches(encoded, 8, 50)\n",
    "x, y = next(batches)"
   ]
  },
  {
   "cell_type": "code",
   "execution_count": 22,
   "metadata": {},
   "outputs": [
    {
     "name": "stdout",
     "output_type": "stream",
     "text": [
      "x\n",
      " [[15 65 22  9 39 78 27 44  5 40]\n",
      " [31 71 42 44 39 65 22 39 44 22]\n",
      " [78 42 58 44 71 27 44 22 44 17]\n",
      " [31 44 39 65 78 44 38 65 37 78]\n",
      " [44 31 22 69 44 65 78 27 44 39]\n",
      " [38 46 31 31 37 71 42 44 22 42]\n",
      " [44  7 42 42 22 44 65 22 58 44]\n",
      " [ 8 11 72 71 42 31 24 48 79 44]]\n",
      "\n",
      "y\n",
      " [[65 22  9 39 78 27 44  5 40 40]\n",
      " [71 42 44 39 65 22 39 44 22 39]\n",
      " [42 58 44 71 27 44 22 44 17 71]\n",
      " [44 39 65 78 44 38 65 37 78 17]\n",
      " [31 22 69 44 65 78 27 44 39 78]\n",
      " [46 31 31 37 71 42 44 22 42 58]\n",
      " [ 7 42 42 22 44 65 22 58 44 31]\n",
      " [11 72 71 42 31 24 48 79 44 13]]\n"
     ]
    }
   ],
   "source": [
    "# printing out the first 10 items in a sequence\n",
    "print('x\\n', x[:10, :10])\n",
    "print('\\ny\\n', y[:10, :10])"
   ]
  },
  {
   "cell_type": "markdown",
   "metadata": {},
   "source": [
    "If you implemented `get_batches` correctly, the above output should look something like \n",
    "```\n",
    "x\n",
    " [[25  8 60 11 45 27 28 73  1  2]\n",
    " [17  7 20 73 45  8 60 45 73 60]\n",
    " [27 20 80 73  7 28 73 60 73 65]\n",
    " [17 73 45  8 27 73 66  8 46 27]\n",
    " [73 17 60 12 73  8 27 28 73 45]\n",
    " [66 64 17 17 46  7 20 73 60 20]\n",
    " [73 76 20 20 60 73  8 60 80 73]\n",
    " [47 35 43  7 20 17 24 50 37 73]]\n",
    "\n",
    "y\n",
    " [[ 8 60 11 45 27 28 73  1  2  2]\n",
    " [ 7 20 73 45  8 60 45 73 60 45]\n",
    " [20 80 73  7 28 73 60 73 65  7]\n",
    " [73 45  8 27 73 66  8 46 27 65]\n",
    " [17 60 12 73  8 27 28 73 45 27]\n",
    " [64 17 17 46  7 20 73 60 20 80]\n",
    " [76 20 20 60 73  8 60 80 73 17]\n",
    " [35 43  7 20 17 24 50 37 73 36]]\n",
    " ```\n",
    " although the exact numbers may be different. Check to make sure the data is shifted over one step for `y`."
   ]
  },
  {
   "cell_type": "markdown",
   "metadata": {},
   "source": [
    "---\n",
    "## Defining the network with PyTorch\n",
    "\n",
    "Below is where you'll define the network.\n",
    "\n",
    "<img src=\"assets/charRNN.png\" width=500px>\n",
    "\n",
    "Next, you'll use PyTorch to define the architecture of the network. We start by defining the layers and operations we want. Then, define a method for the forward pass. You've also been given a method for predicting characters."
   ]
  },
  {
   "cell_type": "markdown",
   "metadata": {},
   "source": [
    "### Model Structure\n",
    "\n",
    "In `__init__` the suggested structure is as follows:\n",
    "* Create and store the necessary dictionaries (this has been done for you)\n",
    "* Define an LSTM layer that takes as params: an input size (the number of characters), a hidden layer size `n_hidden`, a number of layers `n_layers`, a dropout probability `drop_prob`, and a batch_first boolean (True, since we are batching)\n",
    "* Define a dropout layer with `drop_prob`\n",
    "* Define a fully-connected layer with params: input size `n_hidden` and output size (the number of characters)\n",
    "* Finally, initialize the weights (again, this has been given)\n",
    "\n",
    "Note that some parameters have been named and given in the `__init__` function, and we use them and store them by doing something like `self.drop_prob = drop_prob`."
   ]
  },
  {
   "cell_type": "markdown",
   "metadata": {},
   "source": [
    "---\n",
    "### LSTM Inputs/Outputs\n",
    "\n",
    "You can create a basic [LSTM layer](https://pytorch.org/docs/stable/nn.html#lstm) as follows\n",
    "\n",
    "```python\n",
    "self.lstm = nn.LSTM(input_size, n_hidden, n_layers, \n",
    "                            dropout=drop_prob, batch_first=True)\n",
    "```\n",
    "\n",
    "where `input_size` is the number of characters this cell expects to see as sequential input, and `n_hidden` is the number of units in the hidden layers in the cell. And we can add dropout by adding a dropout parameter with a specified probability; this will automatically add dropout to the inputs or outputs. Finally, in the `forward` function, we can stack up the LSTM cells into layers using `.view`. With this, you pass in a list of cells and it will send the output of one cell into the next cell.\n",
    "\n",
    "We also need to create an initial hidden state of all zeros. This is done like so\n",
    "\n",
    "```python\n",
    "self.init_hidden()\n",
    "```"
   ]
  },
  {
   "cell_type": "code",
   "execution_count": 23,
   "metadata": {},
   "outputs": [
    {
     "name": "stdout",
     "output_type": "stream",
     "text": [
      "No GPU available, training on CPU; consider making n_epochs very small.\n"
     ]
    }
   ],
   "source": [
    "# check if GPU is available\n",
    "train_on_gpu = torch.cuda.is_available()\n",
    "if(train_on_gpu):\n",
    "    print('Training on GPU!')\n",
    "else: \n",
    "    print('No GPU available, training on CPU; consider making n_epochs very small.')"
   ]
  },
  {
   "cell_type": "code",
   "execution_count": 24,
   "metadata": {},
   "outputs": [],
   "source": [
    "class CharRNN(nn.Module):\n",
    "    \n",
    "    def __init__(self, tokens, n_hidden=256, n_layers=2,\n",
    "                               drop_prob=0.5, lr=0.001):\n",
    "        super().__init__()\n",
    "        self.drop_prob = drop_prob\n",
    "        self.n_layers = n_layers\n",
    "        self.n_hidden = n_hidden\n",
    "        self.lr = lr\n",
    "        \n",
    "        # creating character dictionaries\n",
    "        self.chars = tokens\n",
    "        self.int2char = dict(enumerate(self.chars))\n",
    "        self.char2int = {ch: ii for ii, ch in self.int2char.items()}\n",
    "        \n",
    "        ## TODO: define the layers of the model\n",
    "        self.lstm = nn.LSTM(len(self.chars), n_hidden, n_layers, dropout=drop_prob, batch_first=True)\n",
    "        self.dropout = nn.Dropout(drop_prob)  # not sure why this isn't included in the LSTM layer?\n",
    "        self.fc1 = nn.Linear(n_hidden, len(self.chars))\n",
    "        \n",
    "    \n",
    "    def forward(self, x, hidden):\n",
    "        ''' Forward pass through the network. \n",
    "            These inputs are x, and the hidden/cell state `hidden`. '''\n",
    "                \n",
    "        ## TODO: Get the outputs and the new hidden state from the lstm\n",
    "        recurrent_out, hidden = self.lstm(x, hidden)\n",
    "        \n",
    "        # The dropout layer \n",
    "        out = self.dropout(recurrent_out)\n",
    "        \n",
    "        # The LSTM cells need to be stacked into a tensor that will now work with the fully connected layer.\n",
    "        # (-1, self.n_hidden) makes a tensor with n_hidden columns, the -1 is a placeholder for rows (=1 anyway?)\n",
    "        # the .contiguous() ensures the array is stored in a contiguous block of memory, which is faster to use.\n",
    "        \n",
    "        out = out.contiguous().view(-1, self.n_hidden)\n",
    "        \n",
    "        # Now it is ready for the fully connected layer\n",
    "        \n",
    "        out = self.fc1(out)\n",
    "        \n",
    "        # return the final output and the hidden state\n",
    "        return out, hidden\n",
    "    \n",
    "    \n",
    "    def init_hidden(self, batch_size):\n",
    "        ''' Initializes hidden state '''\n",
    "        # Create two new tensors with sizes n_layers x batch_size x n_hidden,\n",
    "        # initialized to zero, for hidden state and cell state of LSTM\n",
    "        weight = next(self.parameters()).data\n",
    "        \n",
    "        if (train_on_gpu):\n",
    "            hidden = (weight.new(self.n_layers, batch_size, self.n_hidden).zero_().cuda(),\n",
    "                  weight.new(self.n_layers, batch_size, self.n_hidden).zero_().cuda())\n",
    "        else:\n",
    "            hidden = (weight.new(self.n_layers, batch_size, self.n_hidden).zero_(),\n",
    "                      weight.new(self.n_layers, batch_size, self.n_hidden).zero_())\n",
    "        \n",
    "        return hidden\n",
    "        "
   ]
  },
  {
   "cell_type": "markdown",
   "metadata": {},
   "source": [
    "## Time to train\n",
    "\n",
    "The train function gives us the ability to set the number of epochs, the learning rate, and other parameters.\n",
    "\n",
    "Below we're using an Adam optimizer and cross entropy loss since we are looking at character class scores as output. We calculate the loss and perform backpropagation, as usual!\n",
    "\n",
    "A couple of details about training: \n",
    ">* Within the batch loop, we detach the hidden state from its history; this time setting it equal to a new *tuple* variable because an LSTM has a hidden state that is a tuple of the hidden and cell states.\n",
    "* We use [`clip_grad_norm_`](https://pytorch.org/docs/stable/_modules/torch/nn/utils/clip_grad.html) to help prevent exploding gradients."
   ]
  },
  {
   "cell_type": "code",
   "execution_count": 28,
   "metadata": {},
   "outputs": [],
   "source": [
    "def train(net, data, epochs=10, batch_size=10, seq_length=50, lr=0.001, clip=5, val_frac=0.1, print_every=10):\n",
    "    ''' Training a network \n",
    "    \n",
    "        Arguments\n",
    "        ---------\n",
    "        \n",
    "        net: CharRNN network\n",
    "        data: text data to train the network\n",
    "        epochs: Number of epochs to train\n",
    "        batch_size: Number of mini-sequences per mini-batch, aka batch size\n",
    "        seq_length: Number of character steps per mini-batch\n",
    "        lr: learning rate\n",
    "        clip: gradient clipping\n",
    "        val_frac: Fraction of data to hold out for validation\n",
    "        print_every: Number of steps for printing training and validation loss\n",
    "    \n",
    "    '''\n",
    "    net.train()\n",
    "    \n",
    "    opt = torch.optim.Adam(net.parameters(), lr=lr)\n",
    "    criterion = nn.CrossEntropyLoss()\n",
    "    \n",
    "    # create training and validation data\n",
    "    val_idx = int(len(data)*(1-val_frac))\n",
    "    data, val_data = data[:val_idx], data[val_idx:]\n",
    "    \n",
    "    if(train_on_gpu):\n",
    "        net.cuda()\n",
    "    \n",
    "    counter = 0\n",
    "    n_chars = len(net.chars)\n",
    "    for e in range(epochs):\n",
    "        # initialize hidden state\n",
    "        h = net.init_hidden(batch_size)\n",
    "        \n",
    "        for x, y in get_batches(data, batch_size, seq_length):\n",
    "            counter += 1\n",
    "            \n",
    "            # One-hot encode our data and make them Torch tensors\n",
    "            x = one_hot_encode(x, n_chars)\n",
    "            inputs, targets = torch.from_numpy(x), torch.from_numpy(y)\n",
    "            #print('Input: ',inputs.size())\n",
    "            #print('Targets: ',targets.size())\n",
    "            #print('batch_size: ',batch_size)\n",
    "            #print('seq_length: ', seq_length)\n",
    "            #print('contiguous.view(batch_size*seq_length)',targets.contiguous().view(batch_size*seq_length).long())\n",
    "            \n",
    "            if(train_on_gpu):\n",
    "                inputs, targets = inputs.cuda(), targets.cuda()\n",
    "\n",
    "            # Creating new variables for the hidden state, otherwise\n",
    "            # we'd backprop through the entire training history\n",
    "            h = tuple([each.data for each in h])\n",
    "\n",
    "            # zero accumulated gradients\n",
    "            net.zero_grad()\n",
    "            \n",
    "            # get the output from the model\n",
    "            output, h = net(inputs, h)\n",
    "                \n",
    "            # calculate the loss and perform backprop\n",
    "            loss = criterion(output, targets.view(batch_size*seq_length).long())\n",
    "            loss.backward()\n",
    "            \n",
    "                        #### Getting an error with this step:\n",
    "            # RuntimeError: view size is not compatible with input tensor's size \n",
    "            # and stride(at least one dimension spans across two contiguous \n",
    "            # subspaces). Use .reshape(...) instead.\n",
    "            \n",
    "            # For some reason the worked solution doesn't have this issue.\n",
    "            \n",
    "            #### Sounds like the targets tensor isn't the expected size. Why is this? ### \n",
    "            \n",
    "            #Input:  torch.Size([128, 100, 83])\n",
    "            #Targets:  torch.Size([128, 100])\n",
    "            #batch_size:  128\n",
    "            #seq_length:  100\n",
    "            #contiguous().view(batch_size*seq_length) tensor([34, 27, 19,  ..., 46, 27, 53])\n",
    "            \n",
    "            #The problem is solved by adding .contiguous(), but it isn't clear why the worked solution example\n",
    "            #Doesn't need to do this. Also this work-around doesn't seem to work for the validation set.\n",
    "            \n",
    "            #The issue was fixed by switching to the worked solution for the generation of the batch tensors.\n",
    "            #So apparently there was somethign wrong with my solution, or the way it was stored in memory.\n",
    "\n",
    "            # `clip_grad_norm` helps prevent the exploding gradient problem in RNNs / LSTMs.\n",
    "            nn.utils.clip_grad_norm_(net.parameters(), clip)\n",
    "            opt.step()\n",
    "            \n",
    "            # loss stats\n",
    "            if counter % print_every == 0:\n",
    "                # Get validation loss\n",
    "                val_h = net.init_hidden(batch_size)\n",
    "                val_losses = []\n",
    "                net.eval()\n",
    "                for x, y in get_batches(val_data, batch_size, seq_length):\n",
    "                    # One-hot encode our data and make them Torch tensors\n",
    "                    x = one_hot_encode(x, n_chars)\n",
    "                    x, y = torch.from_numpy(x), torch.from_numpy(y)\n",
    "                    \n",
    "                    # Creating new variables for the hidden state, otherwise\n",
    "                    # we'd backprop through the entire training history\n",
    "                    val_h = tuple([each.data for each in val_h])\n",
    "                    \n",
    "                    inputs, targets = x, y\n",
    "                    if(train_on_gpu):\n",
    "                        inputs, targets = inputs.cuda(), targets.cuda()\n",
    "\n",
    "                    output, val_h = net(inputs, val_h)\n",
    "                    val_loss = criterion(output, targets.view(batch_size*seq_length).long())\n",
    "                \n",
    "                    val_losses.append(val_loss.item())\n",
    "                \n",
    "                net.train() # reset to train mode after iterationg through validation data\n",
    "                \n",
    "                print(\"Epoch: {}/{}...\".format(e+1, epochs),\n",
    "                      \"Step: {}...\".format(counter),\n",
    "                      \"Loss: {:.4f}...\".format(loss.item()),\n",
    "                      \"Val Loss: {:.4f}\".format(np.mean(val_losses)))"
   ]
  },
  {
   "cell_type": "markdown",
   "metadata": {},
   "source": [
    "## Instantiating the model\n",
    "\n",
    "Now we can actually train the network. First we'll create the network itself, with some given hyperparameters. Then, define the mini-batches sizes, and start training!"
   ]
  },
  {
   "cell_type": "code",
   "execution_count": 29,
   "metadata": {},
   "outputs": [
    {
     "name": "stdout",
     "output_type": "stream",
     "text": [
      "CharRNN(\n",
      "  (lstm): LSTM(83, 512, num_layers=2, batch_first=True, dropout=0.5)\n",
      "  (dropout): Dropout(p=0.5, inplace=False)\n",
      "  (fc1): Linear(in_features=512, out_features=83, bias=True)\n",
      ")\n"
     ]
    }
   ],
   "source": [
    "## TODO: set your model hyperparameters\n",
    "# define and print the net\n",
    "n_hidden = 512\n",
    "n_layers = 2\n",
    "\n",
    "net = CharRNN(chars, n_hidden, n_layers)\n",
    "print(net)"
   ]
  },
  {
   "cell_type": "markdown",
   "metadata": {},
   "source": [
    "### Set your training hyperparameters!"
   ]
  },
  {
   "cell_type": "code",
   "execution_count": 30,
   "metadata": {
    "scrolled": true
   },
   "outputs": [
    {
     "name": "stdout",
     "output_type": "stream",
     "text": [
      "Epoch: 1/5... Step: 10... Loss: 3.2672... Val Loss: 3.2078\n",
      "Epoch: 1/5... Step: 20... Loss: 3.1571... Val Loss: 3.1374\n",
      "Epoch: 1/5... Step: 30... Loss: 3.1420... Val Loss: 3.1248\n",
      "Epoch: 1/5... Step: 40... Loss: 3.1136... Val Loss: 3.1196\n",
      "Epoch: 1/5... Step: 50... Loss: 3.1455... Val Loss: 3.1179\n",
      "Epoch: 1/5... Step: 60... Loss: 3.1182... Val Loss: 3.1159\n",
      "Epoch: 1/5... Step: 70... Loss: 3.1074... Val Loss: 3.1144\n",
      "Epoch: 1/5... Step: 80... Loss: 3.1236... Val Loss: 3.1105\n",
      "Epoch: 1/5... Step: 90... Loss: 3.1157... Val Loss: 3.1016\n",
      "Epoch: 1/5... Step: 100... Loss: 3.0906... Val Loss: 3.0795\n",
      "Epoch: 1/5... Step: 110... Loss: 3.0533... Val Loss: 3.0373\n",
      "Epoch: 1/5... Step: 120... Loss: 2.9418... Val Loss: 2.9198\n",
      "Epoch: 1/5... Step: 130... Loss: 2.8591... Val Loss: 2.8167\n",
      "Epoch: 2/5... Step: 140... Loss: 2.7911... Val Loss: 2.6838\n",
      "Epoch: 2/5... Step: 150... Loss: 2.6495... Val Loss: 2.5964\n",
      "Epoch: 2/5... Step: 160... Loss: 2.5673... Val Loss: 2.5220\n",
      "Epoch: 2/5... Step: 170... Loss: 2.4924... Val Loss: 2.4715\n",
      "Epoch: 2/5... Step: 180... Loss: 2.4638... Val Loss: 2.4340\n",
      "Epoch: 2/5... Step: 190... Loss: 2.4129... Val Loss: 2.3987\n",
      "Epoch: 2/5... Step: 200... Loss: 2.4072... Val Loss: 2.3703\n",
      "Epoch: 2/5... Step: 210... Loss: 2.3691... Val Loss: 2.3385\n",
      "Epoch: 2/5... Step: 220... Loss: 2.3256... Val Loss: 2.3096\n",
      "Epoch: 2/5... Step: 230... Loss: 2.3137... Val Loss: 2.2825\n",
      "Epoch: 2/5... Step: 240... Loss: 2.2885... Val Loss: 2.2566\n",
      "Epoch: 2/5... Step: 250... Loss: 2.2279... Val Loss: 2.2276\n",
      "Epoch: 2/5... Step: 260... Loss: 2.1984... Val Loss: 2.1968\n",
      "Epoch: 2/5... Step: 270... Loss: 2.2143... Val Loss: 2.1745\n",
      "Epoch: 3/5... Step: 280... Loss: 2.2032... Val Loss: 2.1546\n",
      "Epoch: 3/5... Step: 290... Loss: 2.1662... Val Loss: 2.1286\n",
      "Epoch: 3/5... Step: 300... Loss: 2.1438... Val Loss: 2.1065\n",
      "Epoch: 3/5... Step: 310... Loss: 2.1194... Val Loss: 2.0875\n",
      "Epoch: 3/5... Step: 320... Loss: 2.0816... Val Loss: 2.0693\n",
      "Epoch: 3/5... Step: 330... Loss: 2.0543... Val Loss: 2.0516\n",
      "Epoch: 3/5... Step: 340... Loss: 2.0796... Val Loss: 2.0302\n",
      "Epoch: 3/5... Step: 350... Loss: 2.0579... Val Loss: 2.0159\n",
      "Epoch: 3/5... Step: 360... Loss: 1.9881... Val Loss: 1.9997\n",
      "Epoch: 3/5... Step: 370... Loss: 2.0150... Val Loss: 1.9769\n",
      "Epoch: 3/5... Step: 380... Loss: 1.9896... Val Loss: 1.9596\n",
      "Epoch: 3/5... Step: 390... Loss: 1.9563... Val Loss: 1.9455\n",
      "Epoch: 3/5... Step: 400... Loss: 1.9306... Val Loss: 1.9325\n",
      "Epoch: 3/5... Step: 410... Loss: 1.9492... Val Loss: 1.9187\n",
      "Epoch: 4/5... Step: 420... Loss: 1.9382... Val Loss: 1.9031\n",
      "Epoch: 4/5... Step: 430... Loss: 1.9251... Val Loss: 1.8888\n",
      "Epoch: 4/5... Step: 440... Loss: 1.9078... Val Loss: 1.8779\n",
      "Epoch: 4/5... Step: 450... Loss: 1.8467... Val Loss: 1.8587\n",
      "Epoch: 4/5... Step: 460... Loss: 1.8349... Val Loss: 1.8492\n",
      "Epoch: 4/5... Step: 470... Loss: 1.8714... Val Loss: 1.8383\n",
      "Epoch: 4/5... Step: 480... Loss: 1.8525... Val Loss: 1.8274\n",
      "Epoch: 4/5... Step: 490... Loss: 1.8546... Val Loss: 1.8140\n",
      "Epoch: 4/5... Step: 500... Loss: 1.8485... Val Loss: 1.8049\n",
      "Epoch: 4/5... Step: 510... Loss: 1.8268... Val Loss: 1.7939\n",
      "Epoch: 4/5... Step: 520... Loss: 1.8402... Val Loss: 1.7851\n",
      "Epoch: 4/5... Step: 530... Loss: 1.7885... Val Loss: 1.7731\n",
      "Epoch: 4/5... Step: 540... Loss: 1.7596... Val Loss: 1.7631\n",
      "Epoch: 4/5... Step: 550... Loss: 1.8005... Val Loss: 1.7531\n",
      "Epoch: 5/5... Step: 560... Loss: 1.7710... Val Loss: 1.7453\n",
      "Epoch: 5/5... Step: 570... Loss: 1.7519... Val Loss: 1.7336\n",
      "Epoch: 5/5... Step: 580... Loss: 1.7374... Val Loss: 1.7265\n",
      "Epoch: 5/5... Step: 590... Loss: 1.7323... Val Loss: 1.7185\n",
      "Epoch: 5/5... Step: 600... Loss: 1.7228... Val Loss: 1.7090\n",
      "Epoch: 5/5... Step: 610... Loss: 1.7090... Val Loss: 1.7027\n",
      "Epoch: 5/5... Step: 620... Loss: 1.7080... Val Loss: 1.6987\n",
      "Epoch: 5/5... Step: 630... Loss: 1.7288... Val Loss: 1.6919\n",
      "Epoch: 5/5... Step: 640... Loss: 1.6974... Val Loss: 1.6831\n",
      "Epoch: 5/5... Step: 650... Loss: 1.6776... Val Loss: 1.6716\n",
      "Epoch: 5/5... Step: 660... Loss: 1.6565... Val Loss: 1.6664\n",
      "Epoch: 5/5... Step: 670... Loss: 1.6873... Val Loss: 1.6607\n",
      "Epoch: 5/5... Step: 680... Loss: 1.6860... Val Loss: 1.6541\n",
      "Epoch: 5/5... Step: 690... Loss: 1.6529... Val Loss: 1.6512\n"
     ]
    }
   ],
   "source": [
    "batch_size = 128\n",
    "seq_length = 100\n",
    "n_epochs =  5 # start small for initial testing on CPU, then increase later on Colab\n",
    "\n",
    "# train the model\n",
    "train(net, encoded, epochs=n_epochs, batch_size=batch_size, seq_length=seq_length, lr=0.001, print_every=10)"
   ]
  },
  {
   "cell_type": "markdown",
   "metadata": {},
   "source": [
    "## Getting the best model\n",
    "\n",
    "To set your hyperparameters to get the best performance, you'll want to watch the training and validation losses. If your training loss is much lower than the validation loss, you're overfitting. Increase regularization (more dropout) or use a smaller network. If the training and validation losses are close, you're underfitting so you can increase the size of the network."
   ]
  },
  {
   "cell_type": "markdown",
   "metadata": {},
   "source": [
    "## Hyperparameters\n",
    "\n",
    "Here are the hyperparameters for the network.\n",
    "\n",
    "In defining the model:\n",
    "* `n_hidden` - The number of units in the hidden layers.\n",
    "* `n_layers` - Number of hidden LSTM layers to use.\n",
    "\n",
    "We assume that dropout probability and learning rate will be kept at the default, in this example.\n",
    "\n",
    "And in training:\n",
    "* `batch_size` - Number of sequences running through the network in one pass.\n",
    "* `seq_length` - Number of characters in the sequence the network is trained on. Larger is better typically, the network will learn more long range dependencies. But it takes longer to train. 100 is typically a good number here.\n",
    "* `lr` - Learning rate for training\n",
    "\n",
    "Here's some good advice from Andrej Karpathy on training the network. I'm going to copy it in here for your benefit, but also link to [where it originally came from](https://github.com/karpathy/char-rnn#tips-and-tricks).\n",
    "\n",
    "> ## Tips and Tricks\n",
    "\n",
    ">### Monitoring Validation Loss vs. Training Loss\n",
    ">If you're somewhat new to Machine Learning or Neural Networks it can take a bit of expertise to get good models. The most important quantity to keep track of is the difference between your training loss (printed during training) and the validation loss (printed once in a while when the RNN is run on the validation data (by default every 1000 iterations)). In particular:\n",
    "\n",
    "> - If your training loss is much lower than validation loss then this means the network might be **overfitting**. Solutions to this are to decrease your network size, or to increase dropout. For example you could try dropout of 0.5 and so on.\n",
    "> - If your training/validation loss are about equal then your model is **underfitting**. Increase the size of your model (either number of layers or the raw number of neurons per layer)\n",
    "\n",
    "> ### Approximate number of parameters\n",
    "\n",
    "> The two most important parameters that control the model are `n_hidden` and `n_layers`. I would advise that you always use `n_layers` of either 2/3. The `n_hidden` can be adjusted based on how much data you have. The two important quantities to keep track of here are:\n",
    "\n",
    "> - The number of parameters in your model. This is printed when you start training.\n",
    "> - The size of your dataset. 1MB file is approximately 1 million characters.\n",
    "\n",
    ">These two should be about the same order of magnitude. It's a little tricky to tell. Here are some examples:\n",
    "\n",
    "> - I have a 100MB dataset and I'm using the default parameter settings (which currently print 150K parameters). My data size is significantly larger (100 mil >> 0.15 mil), so I expect to heavily underfit. I am thinking I can comfortably afford to make `n_hidden` larger.\n",
    "> - I have a 10MB dataset and running a 10 million parameter model. I'm slightly nervous and I'm carefully monitoring my validation loss. If it's larger than my training loss then I may want to try to increase dropout a bit and see if that helps the validation loss.\n",
    "\n",
    "> ### Best models strategy\n",
    "\n",
    ">The winning strategy to obtaining very good models (if you have the compute time) is to always err on making the network larger (as large as you're willing to wait for it to compute) and then try different dropout values (between 0,1). Whatever model has the best validation performance (the loss, written in the checkpoint filename, low is good) is the one you should use in the end.\n",
    "\n",
    ">It is very common in deep learning to run many different models with many different hyperparameter settings, and in the end take whatever checkpoint gave the best validation performance.\n",
    "\n",
    ">By the way, the size of your training and validation splits are also parameters. Make sure you have a decent amount of data in your validation set or otherwise the validation performance will be noisy and not very informative."
   ]
  },
  {
   "cell_type": "markdown",
   "metadata": {},
   "source": [
    "## Checkpoint\n",
    "\n",
    "After training, we'll save the model so we can load it again later if we need too. Here I'm saving the parameters needed to create the same architecture, the hidden layer hyperparameters and the text characters."
   ]
  },
  {
   "cell_type": "code",
   "execution_count": 31,
   "metadata": {},
   "outputs": [],
   "source": [
    "# change the name, for saving multiple files\n",
    "model_name = 'rnn_x_epoch.net'\n",
    "\n",
    "checkpoint = {'n_hidden': net.n_hidden,\n",
    "              'n_layers': net.n_layers,\n",
    "              'state_dict': net.state_dict(),\n",
    "              'tokens': net.chars}\n",
    "\n",
    "with open(model_name, 'wb') as f:\n",
    "    torch.save(checkpoint, f)"
   ]
  },
  {
   "cell_type": "markdown",
   "metadata": {},
   "source": [
    "---\n",
    "## Making Predictions\n",
    "\n",
    "Now that the model is trained, we'll want to sample from it and make predictions about next characters! To sample, we pass in a character and have the network predict the next character. Then we take that character, pass it back in, and get another predicted character. Just keep doing this and you'll generate a bunch of text!\n",
    "\n",
    "### A note on the `predict`  function\n",
    "\n",
    "The output of our RNN is from a fully-connected layer and it outputs a **distribution of next-character scores**.\n",
    "\n",
    "> To actually get the next character, we apply a softmax function, which gives us a *probability* distribution that we can then sample to predict the next character.\n",
    "\n",
    "### Top K sampling\n",
    "\n",
    "Our predictions come from a categorical probability distribution over all the possible characters. We can make the sample text and make it more reasonable to handle (with less variables) by only considering some $K$ most probable characters. This will prevent the network from giving us completely absurd characters while allowing it to introduce some noise and randomness into the sampled text. Read more about [topk, here](https://pytorch.org/docs/stable/torch.html#torch.topk).\n"
   ]
  },
  {
   "cell_type": "code",
   "execution_count": 32,
   "metadata": {},
   "outputs": [],
   "source": [
    "def predict(net, char, h=None, top_k=None):\n",
    "        ''' Given a character, predict the next character.\n",
    "            Returns the predicted character and the hidden state.\n",
    "        '''\n",
    "        \n",
    "        # tensor inputs\n",
    "        x = np.array([[net.char2int[char]]])\n",
    "        x = one_hot_encode(x, len(net.chars))\n",
    "        inputs = torch.from_numpy(x)\n",
    "        \n",
    "        if(train_on_gpu):\n",
    "            inputs = inputs.cuda()\n",
    "        \n",
    "        # detach hidden state from history\n",
    "        h = tuple([each.data for each in h])\n",
    "        # get the output of the model\n",
    "        out, h = net(inputs, h)\n",
    "\n",
    "        # get the character probabilities\n",
    "        p = F.softmax(out, dim=1).data\n",
    "        if(train_on_gpu):\n",
    "            p = p.cpu() # move to cpu\n",
    "        \n",
    "        # get top characters\n",
    "        if top_k is None:\n",
    "            top_ch = np.arange(len(net.chars))\n",
    "        else:\n",
    "            p, top_ch = p.topk(top_k)\n",
    "            top_ch = top_ch.numpy().squeeze()\n",
    "        \n",
    "        # select the likely next character with some element of randomness\n",
    "        p = p.numpy().squeeze()\n",
    "        char = np.random.choice(top_ch, p=p/p.sum())\n",
    "        \n",
    "        # return the encoded value of the predicted char and the hidden state\n",
    "        return net.int2char[char], h"
   ]
  },
  {
   "cell_type": "markdown",
   "metadata": {},
   "source": [
    "### Priming and generating text \n",
    "\n",
    "Typically you'll want to prime the network so you can build up a hidden state. Otherwise the network will start out generating characters at random. In general the first bunch of characters will be a little rough since it hasn't built up a long history of characters to predict from."
   ]
  },
  {
   "cell_type": "code",
   "execution_count": 33,
   "metadata": {},
   "outputs": [],
   "source": [
    "def sample(net, size, prime='The', top_k=None):\n",
    "        \n",
    "    if(train_on_gpu):\n",
    "        net.cuda()\n",
    "    else:\n",
    "        net.cpu()\n",
    "    \n",
    "    net.eval() # eval mode\n",
    "    \n",
    "    # First off, run through the prime characters\n",
    "    chars = [ch for ch in prime]\n",
    "    h = net.init_hidden(1)\n",
    "    for ch in prime:\n",
    "        char, h = predict(net, ch, h, top_k=top_k)\n",
    "\n",
    "    chars.append(char)\n",
    "    \n",
    "    # Now pass in the previous character and get a new one\n",
    "    for ii in range(size):\n",
    "        char, h = predict(net, chars[-1], h, top_k=top_k)\n",
    "        chars.append(char)\n",
    "\n",
    "    return ''.join(chars)"
   ]
  },
  {
   "cell_type": "code",
   "execution_count": 34,
   "metadata": {},
   "outputs": [
    {
     "name": "stdout",
     "output_type": "stream",
     "text": [
      "Annas were with was to shing. \"If you heand to her all the came.\"\n",
      "\n",
      "\"I could you the canrons, and Iver as a tarting of this was\n",
      "the bails ald a most all,\" said Alexay, Levin, suid tulked in a steple. \"When the days'll boted to her, at the marse in a less to his his sor hand the sige. It's not a mealing out. I wanting to made he heart his fince, and the comsitiag out and a coundst, and hand to man it that handserf terer on the sand, but the began the same the\n",
      "marss and at it. That say whon, and the dound it was to bus it as the priscess the most trought at him. \"It's attering the stime,\" he said.\n",
      "\n",
      "\"What see you worr as in the coungens, and so moshing it would now it was so see time\n",
      "work....\n",
      "\n",
      "\"Whenered. And I sell though. In she happeered in her to the\n",
      "fearer of the change at the somether's and heast a pracas and antore the bearing with\n",
      "a share if him by the certom with a\n",
      "fance and the condace and a sacite of that it a sund all the care, and would be and sheat iftats hare the\n",
      "manding on only o\n"
     ]
    }
   ],
   "source": [
    "print(sample(net, 1000, prime='Anna', top_k=5))"
   ]
  },
  {
   "cell_type": "markdown",
   "metadata": {},
   "source": [
    "## Loading a checkpoint"
   ]
  },
  {
   "cell_type": "code",
   "execution_count": 35,
   "metadata": {},
   "outputs": [
    {
     "data": {
      "text/plain": [
       "<All keys matched successfully>"
      ]
     },
     "execution_count": 35,
     "metadata": {},
     "output_type": "execute_result"
    }
   ],
   "source": [
    "# Here we have loaded in a model that trained over 20 epochs `rnn_20_epoch.net`\n",
    "with open('rnn_x_epoch.net', 'rb') as f:\n",
    "    checkpoint = torch.load(f)\n",
    "    \n",
    "loaded = CharRNN(checkpoint['tokens'], n_hidden=checkpoint['n_hidden'], n_layers=checkpoint['n_layers'])\n",
    "loaded.load_state_dict(checkpoint['state_dict'])"
   ]
  },
  {
   "cell_type": "code",
   "execution_count": 36,
   "metadata": {},
   "outputs": [
    {
     "name": "stdout",
     "output_type": "stream",
     "text": [
      "And Levin said and\n",
      "still the child and stard her felt, and was at hear whinged and the mutter that a mases of a\n",
      "chinghed and the man on there to the manse was\n",
      "the breed hen tristing as insile of that had been\n",
      "the string on that it so the same of the saye, and as the satere to the proness of the comesse of that soming, when he her hadded to a thouth a such he had to do this what was so lusting at\n",
      "the strange to thinks with his\n",
      "face. \"I mosting and some as all that he was this moter the possion inthing.\"\n",
      "\n",
      "Stepen Arkadyevitch was not her had\n",
      "steple, that he had nat has\n",
      "there and the perithing\n",
      "of the seed, to himself--he wan that the pronder while see simply alout of shis supfesend and the some was\n",
      "a point of any the boors to be\n",
      "treen of the colmans. He caunt of that he had that he has brenderiding of the satters, and allays, he said son a master was as at some that had had heant the childrens was heand her\n",
      "from she will something the pricess.\n",
      "\n",
      "\"Wo lough ale your all seet to sime that he\n",
      "dastored a long. He'll be disterting and that\n",
      "it would's but imparass.\"\n",
      "\n",
      "\"Oh's, began so man in his hould\n",
      "brough seader and his som the best andrysher,\" see seeded, so thing to that\n",
      "a thing of the most\n",
      "trainst of the satien, and and seen\n",
      "allet that the mintters of she saming which he said, the sount and to\n",
      "see he talked at the same. And to a mutt as the parters. He had brean and so deal\n",
      "that\n",
      "in his suct of his fither and have anoter, were her hand say his hands of standes of a\n",
      "sorn of him, and his forter, but, and\n",
      "that is\n",
      "all the for the freemet and seading of it wele his hines.\n",
      "\n",
      "\"I could you they all there and stond why so say toly to me, alo the prosents, a menterself of the sent an the some of the cante of the priece ant of it as a fole to me, and I can's that he welk, but the same with your tige ale that she. I honed taren.\n",
      "\"Af her hear they all\n",
      "shall all\n",
      "all the\n",
      "came to her tightel she houte seathing of the stact.\n",
      "\n",
      "The sair treense terrer what had\n",
      "the pastant an the migat to\n",
      "be that any he went h\n"
     ]
    }
   ],
   "source": [
    "# Sample using a loaded model\n",
    "print(sample(loaded, 2000, top_k=5, prime=\"And Levin said\"))"
   ]
  },
  {
   "cell_type": "code",
   "execution_count": null,
   "metadata": {
    "collapsed": true
   },
   "outputs": [],
   "source": []
  }
 ],
 "metadata": {
  "kernelspec": {
   "display_name": "Python 3",
   "language": "python",
   "name": "python3"
  },
  "language_info": {
   "codemirror_mode": {
    "name": "ipython",
    "version": 3
   },
   "file_extension": ".py",
   "mimetype": "text/x-python",
   "name": "python",
   "nbconvert_exporter": "python",
   "pygments_lexer": "ipython3",
   "version": "3.7.6"
  }
 },
 "nbformat": 4,
 "nbformat_minor": 2
}
