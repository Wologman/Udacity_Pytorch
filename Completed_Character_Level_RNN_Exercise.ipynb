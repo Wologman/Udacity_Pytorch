{
  "nbformat": 4,
  "nbformat_minor": 0,
  "metadata": {
    "kernelspec": {
      "display_name": "Python 3",
      "language": "python",
      "name": "python3"
    },
    "language_info": {
      "codemirror_mode": {
        "name": "ipython",
        "version": 3
      },
      "file_extension": ".py",
      "mimetype": "text/x-python",
      "name": "python",
      "nbconvert_exporter": "python",
      "pygments_lexer": "ipython3",
      "version": "3.7.6"
    },
    "colab": {
      "name": "Completed_Character_Level_RNN_Exercise.ipynb",
      "provenance": [],
      "collapsed_sections": [],
      "toc_visible": true,
      "include_colab_link": true
    },
    "accelerator": "GPU"
  },
  "cells": [
    {
      "cell_type": "markdown",
      "metadata": {
        "id": "view-in-github",
        "colab_type": "text"
      },
      "source": [
        "<a href=\"https://colab.research.google.com/github/Wologman/Udacity_Pytorch/blob/master/Completed_Character_Level_RNN_Exercise.ipynb\" target=\"_parent\"><img src=\"https://colab.research.google.com/assets/colab-badge.svg\" alt=\"Open In Colab\"/></a>"
      ]
    },
    {
      "cell_type": "markdown",
      "metadata": {
        "id": "jtRGQq6O99tC",
        "colab_type": "text"
      },
      "source": [
        "# Character-Level LSTM in PyTorch\n",
        "\n",
        "In this notebook, I'll construct a character-level LSTM with PyTorch. The network will train character by character on some text, then generate new text character by character. As an example, I will train on Anna Karenina. **This model will be able to generate new text based on the text from the book!**\n",
        "\n",
        "This network is based off of Andrej Karpathy's [post on RNNs](http://karpathy.github.io/2015/05/21/rnn-effectiveness/) and [implementation in Torch](https://github.com/karpathy/char-rnn). Below is the general architecture of the character-wise RNN.\n",
        "\n",
        "<img src=\"https://github.com/Wologman/Udacity_Pytorch/blob/master/recurrent-neural-networks/char-rnn/assets/charseq.jpeg?raw=1\" width=\"500\">"
      ]
    },
    {
      "cell_type": "markdown",
      "metadata": {
        "id": "nE22rHrV99tE",
        "colab_type": "text"
      },
      "source": [
        "First let's load in our required resources for data loading and model creation."
      ]
    },
    {
      "cell_type": "code",
      "metadata": {
        "id": "K1StJUxT99tF",
        "colab_type": "code",
        "colab": {}
      },
      "source": [
        "import numpy as np\n",
        "import torch\n",
        "from torch import nn\n",
        "import torch.nn.functional as F"
      ],
      "execution_count": 17,
      "outputs": []
    },
    {
      "cell_type": "markdown",
      "metadata": {
        "id": "biA750B799tM",
        "colab_type": "text"
      },
      "source": [
        "## Load in Data\n",
        "\n",
        "Then, we'll load the Anna Karenina text file and convert it into integers for our network to use. "
      ]
    },
    {
      "cell_type": "code",
      "metadata": {
        "id": "afkt8EqI_Qb0",
        "colab_type": "code",
        "colab": {
          "base_uri": "https://localhost:8080/",
          "height": 34
        },
        "outputId": "28f59298-88bf-4ac9-c32a-c00176b8acc6"
      },
      "source": [
        "from google.colab import drive\n",
        "drive.mount('/content/drive')"
      ],
      "execution_count": 18,
      "outputs": [
        {
          "output_type": "stream",
          "text": [
            "Drive already mounted at /content/drive; to attempt to forcibly remount, call drive.mount(\"/content/drive\", force_remount=True).\n"
          ],
          "name": "stdout"
        }
      ]
    },
    {
      "cell_type": "code",
      "metadata": {
        "id": "ChOgcK1399tN",
        "colab_type": "code",
        "colab": {}
      },
      "source": [
        "# open text file and read in data as `text`\n",
        "with open('drive/My Drive/Colab Notebooks/data/anna.txt', 'r') as f:\n",
        "    text = f.read()"
      ],
      "execution_count": 19,
      "outputs": []
    },
    {
      "cell_type": "markdown",
      "metadata": {
        "id": "vrhWtX3w99tS",
        "colab_type": "text"
      },
      "source": [
        "Let's check out the first 100 characters, make sure everything is peachy. According to the [American Book Review](http://americanbookreview.org/100bestlines.asp), this is the 6th best first line of a book ever."
      ]
    },
    {
      "cell_type": "code",
      "metadata": {
        "id": "Wt5OQrch99tT",
        "colab_type": "code",
        "colab": {
          "base_uri": "https://localhost:8080/",
          "height": 35
        },
        "outputId": "c37fba62-31b9-4a74-88ae-3ae9c83ca3c2"
      },
      "source": [
        "text[:100]"
      ],
      "execution_count": 20,
      "outputs": [
        {
          "output_type": "execute_result",
          "data": {
            "application/vnd.google.colaboratory.intrinsic": {
              "type": "string"
            },
            "text/plain": [
              "'Chapter 1\\n\\n\\nHappy families are all alike; every unhappy family is unhappy in its own\\nway.\\n\\nEverythin'"
            ]
          },
          "metadata": {
            "tags": []
          },
          "execution_count": 20
        }
      ]
    },
    {
      "cell_type": "markdown",
      "metadata": {
        "id": "Y6zkSxJO99tZ",
        "colab_type": "text"
      },
      "source": [
        "### Tokenization\n",
        "\n",
        "In the cells, below, I'm creating a couple **dictionaries** to convert the characters to and from integers. Encoding the characters as integers makes it easier to use as input in the network."
      ]
    },
    {
      "cell_type": "code",
      "metadata": {
        "id": "zansBFHG99ta",
        "colab_type": "code",
        "colab": {}
      },
      "source": [
        "# encode the text and map each character to an integer and vice versa\n",
        "\n",
        "# we create two dictionaries:\n",
        "# 1. int2char, which maps integers to characters\n",
        "# 2. char2int, which maps characters to unique integers\n",
        "chars = tuple(set(text))\n",
        "int2char = dict(enumerate(chars))\n",
        "char2int = {ch: ii for ii, ch in int2char.items()}\n",
        "\n",
        "# encode the text\n",
        "encoded = np.array([char2int[ch] for ch in text])"
      ],
      "execution_count": 21,
      "outputs": []
    },
    {
      "cell_type": "markdown",
      "metadata": {
        "id": "CH4GddVi99tg",
        "colab_type": "text"
      },
      "source": [
        "And we can see those same characters from above, encoded as integers."
      ]
    },
    {
      "cell_type": "code",
      "metadata": {
        "id": "s2g2TEeD99tg",
        "colab_type": "code",
        "colab": {
          "base_uri": "https://localhost:8080/",
          "height": 119
        },
        "outputId": "ad5495a4-03f3-459e-c4a6-c2e4378a94ad"
      },
      "source": [
        "encoded[:100]"
      ],
      "execution_count": 22,
      "outputs": [
        {
          "output_type": "execute_result",
          "data": {
            "text/plain": [
              "array([ 7, 21, 62, 71, 31, 79, 81, 28, 24, 72, 72, 72, 63, 62, 71, 71, 55,\n",
              "       28,  6, 62, 39, 50, 10, 50, 79,  8, 28, 62, 81, 79, 28, 62, 10, 10,\n",
              "       28, 62, 10, 50, 53, 79, 15, 28, 79, 18, 79, 81, 55, 28, 14, 25, 21,\n",
              "       62, 71, 71, 55, 28,  6, 62, 39, 50, 10, 55, 28, 50,  8, 28, 14, 25,\n",
              "       21, 62, 71, 71, 55, 28, 50, 25, 28, 50, 31,  8, 28, 69, 29, 25, 72,\n",
              "       29, 62, 55,  9, 72, 72, 74, 18, 79, 81, 55, 31, 21, 50, 25])"
            ]
          },
          "metadata": {
            "tags": []
          },
          "execution_count": 22
        }
      ]
    },
    {
      "cell_type": "markdown",
      "metadata": {
        "id": "6ZpEct0W99tl",
        "colab_type": "text"
      },
      "source": [
        "## Pre-processing the data\n",
        "\n",
        "As you can see in our char-RNN image above, our LSTM expects an input that is **one-hot encoded** meaning that each character is converted into an integer (via our created dictionary) and *then* converted into a column vector where only it's corresponding integer index will have the value of 1 and the rest of the vector will be filled with 0's. Since we're one-hot encoding the data, let's make a function to do that!\n"
      ]
    },
    {
      "cell_type": "code",
      "metadata": {
        "id": "NwoSIivR99tm",
        "colab_type": "code",
        "colab": {}
      },
      "source": [
        "def one_hot_encode(arr, n_labels):\n",
        "    \n",
        "    # Initialize the the encoded array\n",
        "    one_hot = np.zeros((arr.size, n_labels), dtype=np.float32)\n",
        "    \n",
        "    # Fill the appropriate elements with ones\n",
        "    one_hot[np.arange(one_hot.shape[0]), arr.flatten()] = 1.\n",
        "    \n",
        "    # Finally reshape it to get back to the original array\n",
        "    one_hot = one_hot.reshape((*arr.shape, n_labels))\n",
        "    \n",
        "    return one_hot"
      ],
      "execution_count": 23,
      "outputs": []
    },
    {
      "cell_type": "code",
      "metadata": {
        "id": "VJrYGXSU99tt",
        "colab_type": "code",
        "colab": {
          "base_uri": "https://localhost:8080/",
          "height": 68
        },
        "outputId": "827b6abf-7d98-4469-b112-365c8a2e9232"
      },
      "source": [
        "# check that the function works as expected\n",
        "test_seq = np.array([[3, 5, 1]])\n",
        "one_hot = one_hot_encode(test_seq, 8)\n",
        "\n",
        "print(one_hot)"
      ],
      "execution_count": 24,
      "outputs": [
        {
          "output_type": "stream",
          "text": [
            "[[[0. 0. 0. 1. 0. 0. 0. 0.]\n",
            "  [0. 0. 0. 0. 0. 1. 0. 0.]\n",
            "  [0. 1. 0. 0. 0. 0. 0. 0.]]]\n"
          ],
          "name": "stdout"
        }
      ]
    },
    {
      "cell_type": "markdown",
      "metadata": {
        "id": "yTG0ewMI99ty",
        "colab_type": "text"
      },
      "source": [
        "## Making training mini-batches\n",
        "\n",
        "\n",
        "To train on this data, we also want to create mini-batches for training. Remember that we want our batches to be multiple sequences of some desired number of sequence steps. Considering a simple example, our batches would look like this:\n",
        "\n",
        "<img src=\"https://github.com/Wologman/Udacity_Pytorch/blob/master/recurrent-neural-networks/char-rnn/assets/sequence_batching@1x.png?raw=1\" width=500px>\n",
        "\n",
        "\n",
        "<br>\n",
        "\n",
        "In this example, we'll take the encoded characters (passed in as the `arr` parameter) and split them into multiple sequences, given by `batch_size`. Each of our sequences will be `seq_length` long.\n",
        "\n",
        "### Creating Batches\n",
        "\n",
        "**1. The first thing we need to do is discard some of the text so we only have completely full mini-batches. **\n",
        "\n",
        "Each batch contains $N \\times M$ characters, where $N$ is the batch size (the number of sequences in a batch) and $M$ is the seq_length or number of time steps in a sequence. Then, to get the total number of batches, $K$, that we can make from the array `arr`, you divide the length of `arr` by the number of characters per batch. Once you know the number of batches, you can get the total number of characters to keep from `arr`, $N * M * K$.\n",
        "\n",
        "**2. After that, we need to split `arr` into $N$ batches. ** \n",
        "\n",
        "You can do this using `arr.reshape(size)` where `size` is a tuple containing the dimensions sizes of the reshaped array. We know we want $N$ sequences in a batch, so let's make that the size of the first dimension. For the second dimension, you can use `-1` as a placeholder in the size, it'll fill up the array with the appropriate data for you. After this, you should have an array that is $N \\times (M * K)$.\n",
        "\n",
        "**3. Now that we have this array, we can iterate through it to get our mini-batches. **\n",
        "\n",
        "The idea is each batch is a $N \\times M$ window on the $N \\times (M * K)$ array. For each subsequent batch, the window moves over by `seq_length`. We also want to create both the input and target arrays. Remember that the targets are just the inputs shifted over by one character. The way I like to do this window is use `range` to take steps of size `n_steps` from $0$ to `arr.shape[1]`, the total number of tokens in each sequence. That way, the integers you get from `range` always point to the start of a batch, and each window is `seq_length` wide.\n",
        "\n",
        "> **TODO:** Write the code for creating batches in the function below. The exercises in this notebook _will not be easy_. I've provided a notebook with solutions alongside this notebook. If you get stuck, checkout the solutions. The most important thing is that you don't copy and paste the code into here, **type out the solution code yourself.**"
      ]
    },
    {
      "cell_type": "code",
      "metadata": {
        "id": "DJFpgNDq99tz",
        "colab_type": "code",
        "colab": {}
      },
      "source": [
        "def get_batches(arr, batch_size, seq_length):\n",
        "    '''Create a generator that returns batches of size\n",
        "       batch_size x seq_length from arr.\n",
        "       \n",
        "       Arguments\n",
        "       ---------\n",
        "       arr: Array you want to make batches from\n",
        "       batch_size: Batch size, the number of sequences per batch\n",
        "       seq_length: Number of encoded chars in a sequence\n",
        "    '''\n",
        "    \n",
        "    ## TODO: Get the number of batches we can make\n",
        "    \n",
        "    # Pseudocode: \n",
        "    # Find the number of characters in the array: len(array)\n",
        "    # Divide by size of each batch (batch_size*seq_length) and drop the remainder by doing floor division //\n",
        "    \n",
        "    n_batches = len(arr)//(batch_size*seq_length)\n",
        "    \n",
        "    ## TODO: Keep only enough characters to make full batches\n",
        "    \n",
        "    arr = arr[:n_batches*batch_size*seq_length]\n",
        "    \n",
        "    ## TODO: Reshape into batch_size rows\n",
        "    arr = arr.reshape((batch_size, -1)) # Batch_Size is the number of rows (sequences/batch), -1 is a placeholder\n",
        "    # The dimensions will end up being batch_size x (n_batches*seq_length) \n",
        "    # So at this point it is bach_size tall, but really really wide.\n",
        "    \n",
        "    ## TODO: Iterate over the batches using a window of size seq_length\n",
        "    for n in range(0, arr.shape[1], seq_length): #Starts at 0, stops at number of cols in arr, moves by seq_length\n",
        "        # The features\n",
        "        x = arr[:,n:n+seq_length]\n",
        "        \n",
        "        # Hold on, how come this doesn't just over-write x with every loop?\n",
        "        # Answer: it does, the key to this seems to be to understand the \"yield\" statement used in this loop, \n",
        "        # This isn't a normal funtion, it is a \"generator\", it keeps it's current state in memory\n",
        "        # n, batch_size, seq_length, n_batches, arr, x, y,\n",
        "        # and 'yields' only the bit we need.  In this case the single batch.\n",
        "        # The bach will be a 2d array batch_size tall x seq_length wide.\n",
        "        \n",
        "        # The targets, shifted by one  #note that python can't deal with indices > len(arr)\n",
        "        #y = np.zeros_like(x)\n",
        "        \n",
        "        # My first attempt here: \n",
        "        #if (n < arr.shape[1]):   # Restricting n to values that have an index in the array.\n",
        "        #    y  = arr[:,n+1:n+seq_length+1]  # slices arr one on from x\n",
        "        #else:\n",
        "        #    y[:, 0:seq_length] = arr[:,n+1:n+seq_length+1]  # fill up all except the last\n",
        "        #    y[:, seq_length]  = arr[:,0]  # fill up the last column \n",
        "        #yield x, y\n",
        "        \n",
        "        # This looked OK, but ran into trouble later when I came to form a view, being told issues\n",
        "        # about contiguousness. Probably due to the way the values were dragged out of arr.\n",
        "        \n",
        "        # The worked solution for the last bit:\n",
        "        y = np.zeros_like(x)  # makes an array of zeros the required size\n",
        "        try:\n",
        "            y[:, :-1], y[:, -1] = x[:, 1:], arr[:, n+seq_length]  # See below\n",
        "            #The first component is to fill every row up to (not including) the last col. of y, = x row shifted one\n",
        "        #   The second component fills just the last col in every row with the first item in the next sequence \n",
        "        except IndexError:\n",
        "            y[:, :-1], y[:, -1] = x[:, 1:], arr[:, 0]  # See below\n",
        "        #   This is the same, except that where the index would be out of range, we specify 0 (the first entry)\n",
        "        yield x, y\n",
        "        # The key difference here is that the it slices the x NumPy array, instead of arr for all but the last\n",
        "        # entry. This seems to solve the later problem of trying to use view to shape a non-contiguous array."
      ],
      "execution_count": 25,
      "outputs": []
    },
    {
      "cell_type": "markdown",
      "metadata": {
        "id": "Ov5fjMix99t3",
        "colab_type": "text"
      },
      "source": [
        "### Test Your Implementation\n",
        "\n",
        "Now I'll make some data sets and we can check out what's going on as we batch data. Here, as an example, I'm going to use a batch size of 8 and 50 sequence steps."
      ]
    },
    {
      "cell_type": "code",
      "metadata": {
        "id": "XV53KuIS99t4",
        "colab_type": "code",
        "colab": {}
      },
      "source": [
        "batches = get_batches(encoded, 8, 50)\n",
        "x, y = next(batches)"
      ],
      "execution_count": 26,
      "outputs": []
    },
    {
      "cell_type": "code",
      "metadata": {
        "id": "84VFFbgN99t8",
        "colab_type": "code",
        "colab": {
          "base_uri": "https://localhost:8080/",
          "height": 340
        },
        "outputId": "7ce32caa-7ad6-4155-9637-47a2f72b99ef"
      },
      "source": [
        "# printing out the first 10 items in a sequence\n",
        "print('x\\n', x[:10, :10])\n",
        "print('\\ny\\n', y[:10, :10])"
      ],
      "execution_count": 27,
      "outputs": [
        {
          "output_type": "stream",
          "text": [
            "x\n",
            " [[ 7 21 62 71 31 79 81 28 24 72]\n",
            " [ 8 69 25 28 31 21 62 31 28 62]\n",
            " [79 25 26 28 69 81 28 62 28  6]\n",
            " [ 8 28 31 21 79 28 54 21 50 79]\n",
            " [28  8 62 29 28 21 79 81 28 31]\n",
            " [54 14  8  8 50 69 25 28 62 25]\n",
            " [28  4 25 25 62 28 21 62 26 28]\n",
            " [ 1 68 10 69 25  8 53 55  9 28]]\n",
            "\n",
            "y\n",
            " [[21 62 71 31 79 81 28 24 72 72]\n",
            " [69 25 28 31 21 62 31 28 62 31]\n",
            " [25 26 28 69 81 28 62 28  6 69]\n",
            " [28 31 21 79 28 54 21 50 79  6]\n",
            " [ 8 62 29 28 21 79 81 28 31 79]\n",
            " [14  8  8 50 69 25 28 62 25 26]\n",
            " [ 4 25 25 62 28 21 62 26 28  8]\n",
            " [68 10 69 25  8 53 55  9 28 78]]\n"
          ],
          "name": "stdout"
        }
      ]
    },
    {
      "cell_type": "markdown",
      "metadata": {
        "id": "qB8OqTTO99uC",
        "colab_type": "text"
      },
      "source": [
        "If you implemented `get_batches` correctly, the above output should look something like \n",
        "```\n",
        "x\n",
        " [[25  8 60 11 45 27 28 73  1  2]\n",
        " [17  7 20 73 45  8 60 45 73 60]\n",
        " [27 20 80 73  7 28 73 60 73 65]\n",
        " [17 73 45  8 27 73 66  8 46 27]\n",
        " [73 17 60 12 73  8 27 28 73 45]\n",
        " [66 64 17 17 46  7 20 73 60 20]\n",
        " [73 76 20 20 60 73  8 60 80 73]\n",
        " [47 35 43  7 20 17 24 50 37 73]]\n",
        "\n",
        "y\n",
        " [[ 8 60 11 45 27 28 73  1  2  2]\n",
        " [ 7 20 73 45  8 60 45 73 60 45]\n",
        " [20 80 73  7 28 73 60 73 65  7]\n",
        " [73 45  8 27 73 66  8 46 27 65]\n",
        " [17 60 12 73  8 27 28 73 45 27]\n",
        " [64 17 17 46  7 20 73 60 20 80]\n",
        " [76 20 20 60 73  8 60 80 73 17]\n",
        " [35 43  7 20 17 24 50 37 73 36]]\n",
        " ```\n",
        " although the exact numbers may be different. Check to make sure the data is shifted over one step for `y`."
      ]
    },
    {
      "cell_type": "markdown",
      "metadata": {
        "id": "mjOqKxyZ99uD",
        "colab_type": "text"
      },
      "source": [
        "---\n",
        "## Defining the network with PyTorch\n",
        "\n",
        "Below is where you'll define the network.\n",
        "\n",
        "<img src=\"https://github.com/Wologman/Udacity_Pytorch/blob/master/recurrent-neural-networks/char-rnn/assets/charRNN.png?raw=1\" width=500px>\n",
        "\n",
        "Next, you'll use PyTorch to define the architecture of the network. We start by defining the layers and operations we want. Then, define a method for the forward pass. You've also been given a method for predicting characters."
      ]
    },
    {
      "cell_type": "markdown",
      "metadata": {
        "id": "hFyYVeEX99uE",
        "colab_type": "text"
      },
      "source": [
        "### Model Structure\n",
        "\n",
        "In `__init__` the suggested structure is as follows:\n",
        "* Create and store the necessary dictionaries (this has been done for you)\n",
        "* Define an LSTM layer that takes as params: an input size (the number of characters), a hidden layer size `n_hidden`, a number of layers `n_layers`, a dropout probability `drop_prob`, and a batch_first boolean (True, since we are batching)\n",
        "* Define a dropout layer with `drop_prob`\n",
        "* Define a fully-connected layer with params: input size `n_hidden` and output size (the number of characters)\n",
        "* Finally, initialize the weights (again, this has been given)\n",
        "\n",
        "Note that some parameters have been named and given in the `__init__` function, and we use them and store them by doing something like `self.drop_prob = drop_prob`."
      ]
    },
    {
      "cell_type": "markdown",
      "metadata": {
        "id": "C2WpGM-G99uF",
        "colab_type": "text"
      },
      "source": [
        "---\n",
        "### LSTM Inputs/Outputs\n",
        "\n",
        "You can create a basic [LSTM layer](https://pytorch.org/docs/stable/nn.html#lstm) as follows\n",
        "\n",
        "```python\n",
        "self.lstm = nn.LSTM(input_size, n_hidden, n_layers, \n",
        "                            dropout=drop_prob, batch_first=True)\n",
        "```\n",
        "\n",
        "where `input_size` is the number of characters this cell expects to see as sequential input, and `n_hidden` is the number of units in the hidden layers in the cell. And we can add dropout by adding a dropout parameter with a specified probability; this will automatically add dropout to the inputs or outputs. Finally, in the `forward` function, we can stack up the LSTM cells into layers using `.view`. With this, you pass in a list of cells and it will send the output of one cell into the next cell.\n",
        "\n",
        "We also need to create an initial hidden state of all zeros. This is done like so\n",
        "\n",
        "```python\n",
        "self.init_hidden()\n",
        "```"
      ]
    },
    {
      "cell_type": "code",
      "metadata": {
        "id": "edmXDCJx99uG",
        "colab_type": "code",
        "colab": {
          "base_uri": "https://localhost:8080/",
          "height": 34
        },
        "outputId": "a0aa25c5-005e-452c-f5a2-21862841a9b7"
      },
      "source": [
        "# check if GPU is available\n",
        "train_on_gpu = torch.cuda.is_available()\n",
        "if(train_on_gpu):\n",
        "    print('Training on GPU!')\n",
        "else: \n",
        "    print('No GPU available, training on CPU; consider making n_epochs very small.')"
      ],
      "execution_count": 28,
      "outputs": [
        {
          "output_type": "stream",
          "text": [
            "Training on GPU!\n"
          ],
          "name": "stdout"
        }
      ]
    },
    {
      "cell_type": "code",
      "metadata": {
        "id": "YIc59u2c99uK",
        "colab_type": "code",
        "colab": {}
      },
      "source": [
        "class CharRNN(nn.Module):\n",
        "    \n",
        "    def __init__(self, tokens, n_hidden=256, n_layers=2,\n",
        "                               drop_prob=0.5, lr=0.001):\n",
        "        super().__init__()\n",
        "        self.drop_prob = drop_prob\n",
        "        self.n_layers = n_layers\n",
        "        self.n_hidden = n_hidden\n",
        "        self.lr = lr\n",
        "        \n",
        "        # creating character dictionaries\n",
        "        self.chars = tokens\n",
        "        self.int2char = dict(enumerate(self.chars))\n",
        "        self.char2int = {ch: ii for ii, ch in self.int2char.items()}\n",
        "        \n",
        "        ## TODO: define the layers of the model\n",
        "        self.lstm = nn.LSTM(len(self.chars), n_hidden, n_layers, dropout=drop_prob, batch_first=True)\n",
        "        self.dropout = nn.Dropout(drop_prob)  # not sure why this isn't included in the LSTM layer?\n",
        "        self.fc1 = nn.Linear(n_hidden, len(self.chars))\n",
        "        \n",
        "    \n",
        "    def forward(self, x, hidden):\n",
        "        ''' Forward pass through the network. \n",
        "            These inputs are x, and the hidden/cell state `hidden`. '''\n",
        "                \n",
        "        ## TODO: Get the outputs and the new hidden state from the lstm\n",
        "        recurrent_out, hidden = self.lstm(x, hidden)\n",
        "        \n",
        "        # The dropout layer \n",
        "        out = self.dropout(recurrent_out)\n",
        "        \n",
        "        # The LSTM cells need to be stacked into a tensor that will now work with the fully connected layer.\n",
        "        # (-1, self.n_hidden) makes a tensor with n_hidden columns, the -1 is a placeholder for rows (=1 anyway?)\n",
        "        # the .contiguous() ensures the array is stored in a contiguous block of memory, which is faster to use.\n",
        "        \n",
        "        out = out.contiguous().view(-1, self.n_hidden)\n",
        "        \n",
        "        # Now it is ready for the fully connected layer\n",
        "        \n",
        "        out = self.fc1(out)\n",
        "        \n",
        "        # return the final output and the hidden state\n",
        "        return out, hidden\n",
        "    \n",
        "    \n",
        "    def init_hidden(self, batch_size):\n",
        "        ''' Initializes hidden state '''\n",
        "        # Create two new tensors with sizes n_layers x batch_size x n_hidden,\n",
        "        # initialized to zero, for hidden state and cell state of LSTM\n",
        "        weight = next(self.parameters()).data\n",
        "        \n",
        "        if (train_on_gpu):\n",
        "            hidden = (weight.new(self.n_layers, batch_size, self.n_hidden).zero_().cuda(),\n",
        "                  weight.new(self.n_layers, batch_size, self.n_hidden).zero_().cuda())\n",
        "        else:\n",
        "            hidden = (weight.new(self.n_layers, batch_size, self.n_hidden).zero_(),\n",
        "                      weight.new(self.n_layers, batch_size, self.n_hidden).zero_())\n",
        "        \n",
        "        return hidden\n",
        "        "
      ],
      "execution_count": 29,
      "outputs": []
    },
    {
      "cell_type": "markdown",
      "metadata": {
        "id": "uj6snvZf99uP",
        "colab_type": "text"
      },
      "source": [
        "## Time to train\n",
        "\n",
        "The train function gives us the ability to set the number of epochs, the learning rate, and other parameters.\n",
        "\n",
        "Below we're using an Adam optimizer and cross entropy loss since we are looking at character class scores as output. We calculate the loss and perform backpropagation, as usual!\n",
        "\n",
        "A couple of details about training: \n",
        ">* Within the batch loop, we detach the hidden state from its history; this time setting it equal to a new *tuple* variable because an LSTM has a hidden state that is a tuple of the hidden and cell states.\n",
        "* We use [`clip_grad_norm_`](https://pytorch.org/docs/stable/_modules/torch/nn/utils/clip_grad.html) to help prevent exploding gradients."
      ]
    },
    {
      "cell_type": "code",
      "metadata": {
        "id": "tzW6Di5n99uQ",
        "colab_type": "code",
        "colab": {}
      },
      "source": [
        "def train(net, data, epochs=10, batch_size=10, seq_length=50, lr=0.001, clip=5, val_frac=0.1, print_every=40):\n",
        "    ''' Training a network \n",
        "    \n",
        "        Arguments\n",
        "        ---------\n",
        "        \n",
        "        net: CharRNN network\n",
        "        data: text data to train the network\n",
        "        epochs: Number of epochs to train\n",
        "        batch_size: Number of mini-sequences per mini-batch, aka batch size\n",
        "        seq_length: Number of character steps per mini-batch\n",
        "        lr: learning rate\n",
        "        clip: gradient clipping\n",
        "        val_frac: Fraction of data to hold out for validation\n",
        "        print_every: Number of steps for printing training and validation loss\n",
        "    \n",
        "    '''\n",
        "    net.train()\n",
        "    \n",
        "    opt = torch.optim.Adam(net.parameters(), lr=lr)\n",
        "    criterion = nn.CrossEntropyLoss()\n",
        "    \n",
        "    # create training and validation data\n",
        "    val_idx = int(len(data)*(1-val_frac))\n",
        "    data, val_data = data[:val_idx], data[val_idx:]\n",
        "    \n",
        "    if(train_on_gpu):\n",
        "        net.cuda()\n",
        "    \n",
        "    counter = 0\n",
        "    n_chars = len(net.chars)\n",
        "    for e in range(epochs):\n",
        "        # initialize hidden state\n",
        "        h = net.init_hidden(batch_size)\n",
        "        \n",
        "        for x, y in get_batches(data, batch_size, seq_length):\n",
        "            counter += 1\n",
        "            \n",
        "            # One-hot encode our data and make them Torch tensors\n",
        "            x = one_hot_encode(x, n_chars)\n",
        "            inputs, targets = torch.from_numpy(x), torch.from_numpy(y)\n",
        "            #print('Input: ',inputs.size())\n",
        "            #print('Targets: ',targets.size())\n",
        "            #print('batch_size: ',batch_size)\n",
        "            #print('seq_length: ', seq_length)\n",
        "            #print('contiguous.view(batch_size*seq_length)',targets.contiguous().view(batch_size*seq_length).long())\n",
        "            \n",
        "            if(train_on_gpu):\n",
        "                inputs, targets = inputs.cuda(), targets.cuda()\n",
        "\n",
        "            # Creating new variables for the hidden state, otherwise\n",
        "            # we'd backprop through the entire training history\n",
        "            h = tuple([each.data for each in h])\n",
        "\n",
        "            # zero accumulated gradients\n",
        "            net.zero_grad()\n",
        "            \n",
        "            # get the output from the model\n",
        "            output, h = net(inputs, h)\n",
        "                \n",
        "            # calculate the loss and perform backprop\n",
        "            loss = criterion(output, targets.view(batch_size*seq_length).long())\n",
        "            loss.backward()\n",
        "            \n",
        "                        #### Getting an error with this step:\n",
        "            # RuntimeError: view size is not compatible with input tensor's size \n",
        "            # and stride(at least one dimension spans across two contiguous \n",
        "            # subspaces). Use .reshape(...) instead.\n",
        "            \n",
        "            # For some reason the worked solution doesn't have this issue.\n",
        "            \n",
        "            #### Sounds like the targets tensor isn't the expected size. Why is this? ### \n",
        "            \n",
        "            #Input:  torch.Size([128, 100, 83])\n",
        "            #Targets:  torch.Size([128, 100])\n",
        "            #batch_size:  128\n",
        "            #seq_length:  100\n",
        "            #contiguous().view(batch_size*seq_length) tensor([34, 27, 19,  ..., 46, 27, 53])\n",
        "            \n",
        "            #The problem is solved by adding .contiguous(), but it isn't clear why the worked solution example\n",
        "            #Doesn't need to do this. Also this work-around doesn't seem to work for the validation set.\n",
        "            \n",
        "            #The issue was fixed by switching to the worked solution for the generation of the batch tensors.\n",
        "            #So apparently there was somethign wrong with my solution, or the way it was stored in memory.\n",
        "\n",
        "            # `clip_grad_norm` helps prevent the exploding gradient problem in RNNs / LSTMs.\n",
        "            nn.utils.clip_grad_norm_(net.parameters(), clip)\n",
        "            opt.step()\n",
        "            \n",
        "            # loss stats\n",
        "            if counter % print_every == 0:\n",
        "                # Get validation loss\n",
        "                val_h = net.init_hidden(batch_size)\n",
        "                val_losses = []\n",
        "                net.eval()\n",
        "                for x, y in get_batches(val_data, batch_size, seq_length):\n",
        "                    # One-hot encode our data and make them Torch tensors\n",
        "                    x = one_hot_encode(x, n_chars)\n",
        "                    x, y = torch.from_numpy(x), torch.from_numpy(y)\n",
        "                    \n",
        "                    # Creating new variables for the hidden state, otherwise\n",
        "                    # we'd backprop through the entire training history\n",
        "                    val_h = tuple([each.data for each in val_h])\n",
        "                    \n",
        "                    inputs, targets = x, y\n",
        "                    if(train_on_gpu):\n",
        "                        inputs, targets = inputs.cuda(), targets.cuda()\n",
        "\n",
        "                    output, val_h = net(inputs, val_h)\n",
        "                    val_loss = criterion(output, targets.view(batch_size*seq_length).long())\n",
        "                \n",
        "                    val_losses.append(val_loss.item())\n",
        "                \n",
        "                net.train() # reset to train mode after iterationg through validation data\n",
        "                \n",
        "                print(\"Epoch: {}/{}...\".format(e+1, epochs),\n",
        "                      \"Step: {}...\".format(counter),\n",
        "                      \"Loss: {:.4f}...\".format(loss.item()),\n",
        "                      \"Val Loss: {:.4f}\".format(np.mean(val_losses)))"
      ],
      "execution_count": 30,
      "outputs": []
    },
    {
      "cell_type": "markdown",
      "metadata": {
        "id": "48tc4s1m99uW",
        "colab_type": "text"
      },
      "source": [
        "## Instantiating the model\n",
        "\n",
        "Now we can actually train the network. First we'll create the network itself, with some given hyperparameters. Then, define the mini-batches sizes, and start training!"
      ]
    },
    {
      "cell_type": "code",
      "metadata": {
        "id": "7IfWuxpk99uW",
        "colab_type": "code",
        "colab": {
          "base_uri": "https://localhost:8080/",
          "height": 102
        },
        "outputId": "b5e56bd9-182e-4d29-ede4-ef735e90f85b"
      },
      "source": [
        "## TODO: set your model hyperparameters\n",
        "# define and print the net\n",
        "n_hidden = 512\n",
        "n_layers = 2\n",
        "\n",
        "net = CharRNN(chars, n_hidden, n_layers)\n",
        "print(net)"
      ],
      "execution_count": 31,
      "outputs": [
        {
          "output_type": "stream",
          "text": [
            "CharRNN(\n",
            "  (lstm): LSTM(83, 512, num_layers=2, batch_first=True, dropout=0.5)\n",
            "  (dropout): Dropout(p=0.5, inplace=False)\n",
            "  (fc1): Linear(in_features=512, out_features=83, bias=True)\n",
            ")\n"
          ],
          "name": "stdout"
        }
      ]
    },
    {
      "cell_type": "markdown",
      "metadata": {
        "id": "xoHJRGBU99ub",
        "colab_type": "text"
      },
      "source": [
        "### Set your training hyperparameters!"
      ]
    },
    {
      "cell_type": "code",
      "metadata": {
        "scrolled": true,
        "id": "Vb9nq5V499uc",
        "colab_type": "code",
        "colab": {
          "base_uri": "https://localhost:8080/",
          "height": 1000
        },
        "outputId": "3e99fb8a-2cfb-4392-8a34-63d53fc81589"
      },
      "source": [
        "batch_size = 128\n",
        "seq_length = 100\n",
        "n_epochs =  20 # start small for initial testing on CPU, then increase later on Colab\n",
        "\n",
        "# train the model\n",
        "\n",
        "# With 5 epochs, 2 layers, p_drop = 0.5 got validation loss 1.6512, training loss 1.6529\n",
        "# Switched from CPU to Colab\n",
        "# 10 epochs, 3 layers, p_drop = 0.5: Training Loss: 1,5038, Validation Loss: 1.4536\n",
        "# 10 epochs, 2 layers, p_drop = 0.5: Training Loss: 1.4382, Validation Loss: 1.4231  Actually better!\n",
        "# 20 epochs, 2 layers, p_drop = 0.5: Training Loss: 1.1897, Validation Loss: 1.2809\n",
        "train(net, encoded, epochs=n_epochs, batch_size=batch_size, seq_length=seq_length, lr=0.001, print_every=40)"
      ],
      "execution_count": 32,
      "outputs": [
        {
          "output_type": "stream",
          "text": [
            "Epoch: 1/20... Step: 40... Loss: 3.1183... Val Loss: 3.1185\n",
            "Epoch: 1/20... Step: 80... Loss: 3.1251... Val Loss: 3.1137\n",
            "Epoch: 1/20... Step: 120... Loss: 3.0243... Val Loss: 3.0224\n",
            "Epoch: 2/20... Step: 160... Loss: 2.6292... Val Loss: 2.5776\n",
            "Epoch: 2/20... Step: 200... Loss: 2.4797... Val Loss: 2.4158\n",
            "Epoch: 2/20... Step: 240... Loss: 2.3359... Val Loss: 2.2993\n",
            "Epoch: 3/20... Step: 280... Loss: 2.2433... Val Loss: 2.1970\n",
            "Epoch: 3/20... Step: 320... Loss: 2.1178... Val Loss: 2.1019\n",
            "Epoch: 3/20... Step: 360... Loss: 2.0231... Val Loss: 2.0276\n",
            "Epoch: 3/20... Step: 400... Loss: 1.9598... Val Loss: 1.9561\n",
            "Epoch: 4/20... Step: 440... Loss: 1.9360... Val Loss: 1.9009\n",
            "Epoch: 4/20... Step: 480... Loss: 1.8694... Val Loss: 1.8507\n",
            "Epoch: 4/20... Step: 520... Loss: 1.8503... Val Loss: 1.7992\n",
            "Epoch: 5/20... Step: 560... Loss: 1.7963... Val Loss: 1.7669\n",
            "Epoch: 5/20... Step: 600... Loss: 1.7476... Val Loss: 1.7274\n",
            "Epoch: 5/20... Step: 640... Loss: 1.7126... Val Loss: 1.6949\n",
            "Epoch: 5/20... Step: 680... Loss: 1.6926... Val Loss: 1.6656\n",
            "Epoch: 6/20... Step: 720... Loss: 1.6540... Val Loss: 1.6426\n",
            "Epoch: 6/20... Step: 760... Loss: 1.6490... Val Loss: 1.6209\n",
            "Epoch: 6/20... Step: 800... Loss: 1.6209... Val Loss: 1.6003\n",
            "Epoch: 7/20... Step: 840... Loss: 1.5673... Val Loss: 1.5817\n",
            "Epoch: 7/20... Step: 880... Loss: 1.5781... Val Loss: 1.5674\n",
            "Epoch: 7/20... Step: 920... Loss: 1.5550... Val Loss: 1.5491\n",
            "Epoch: 7/20... Step: 960... Loss: 1.5530... Val Loss: 1.5324\n",
            "Epoch: 8/20... Step: 1000... Loss: 1.5184... Val Loss: 1.5183\n",
            "Epoch: 8/20... Step: 1040... Loss: 1.5276... Val Loss: 1.5081\n",
            "Epoch: 8/20... Step: 1080... Loss: 1.5022... Val Loss: 1.4928\n",
            "Epoch: 9/20... Step: 1120... Loss: 1.5077... Val Loss: 1.4834\n",
            "Epoch: 9/20... Step: 1160... Loss: 1.4475... Val Loss: 1.4710\n",
            "Epoch: 9/20... Step: 1200... Loss: 1.4486... Val Loss: 1.4622\n",
            "Epoch: 9/20... Step: 1240... Loss: 1.4393... Val Loss: 1.4513\n",
            "Epoch: 10/20... Step: 1280... Loss: 1.4624... Val Loss: 1.4412\n",
            "Epoch: 10/20... Step: 1320... Loss: 1.4117... Val Loss: 1.4371\n",
            "Epoch: 10/20... Step: 1360... Loss: 1.4034... Val Loss: 1.4285\n",
            "Epoch: 11/20... Step: 1400... Loss: 1.4445... Val Loss: 1.4201\n",
            "Epoch: 11/20... Step: 1440... Loss: 1.4281... Val Loss: 1.4107\n",
            "Epoch: 11/20... Step: 1480... Loss: 1.4006... Val Loss: 1.4059\n",
            "Epoch: 11/20... Step: 1520... Loss: 1.4031... Val Loss: 1.3990\n",
            "Epoch: 12/20... Step: 1560... Loss: 1.4112... Val Loss: 1.3917\n",
            "Epoch: 12/20... Step: 1600... Loss: 1.3657... Val Loss: 1.3904\n",
            "Epoch: 12/20... Step: 1640... Loss: 1.3554... Val Loss: 1.3886\n",
            "Epoch: 13/20... Step: 1680... Loss: 1.3669... Val Loss: 1.3763\n",
            "Epoch: 13/20... Step: 1720... Loss: 1.3373... Val Loss: 1.3766\n",
            "Epoch: 13/20... Step: 1760... Loss: 1.3375... Val Loss: 1.3679\n",
            "Epoch: 13/20... Step: 1800... Loss: 1.3448... Val Loss: 1.3616\n",
            "Epoch: 14/20... Step: 1840... Loss: 1.2989... Val Loss: 1.3581\n",
            "Epoch: 14/20... Step: 1880... Loss: 1.3287... Val Loss: 1.3547\n",
            "Epoch: 14/20... Step: 1920... Loss: 1.3190... Val Loss: 1.3504\n",
            "Epoch: 15/20... Step: 1960... Loss: 1.3091... Val Loss: 1.3382\n",
            "Epoch: 15/20... Step: 2000... Loss: 1.2772... Val Loss: 1.3402\n",
            "Epoch: 15/20... Step: 2040... Loss: 1.2955... Val Loss: 1.3325\n",
            "Epoch: 15/20... Step: 2080... Loss: 1.2960... Val Loss: 1.3235\n",
            "Epoch: 16/20... Step: 2120... Loss: 1.2896... Val Loss: 1.3216\n",
            "Epoch: 16/20... Step: 2160... Loss: 1.2720... Val Loss: 1.3203\n",
            "Epoch: 16/20... Step: 2200... Loss: 1.2718... Val Loss: 1.3163\n",
            "Epoch: 17/20... Step: 2240... Loss: 1.2593... Val Loss: 1.3104\n",
            "Epoch: 17/20... Step: 2280... Loss: 1.2755... Val Loss: 1.3114\n",
            "Epoch: 17/20... Step: 2320... Loss: 1.2551... Val Loss: 1.3066\n",
            "Epoch: 17/20... Step: 2360... Loss: 1.2669... Val Loss: 1.3033\n",
            "Epoch: 18/20... Step: 2400... Loss: 1.2731... Val Loss: 1.3006\n",
            "Epoch: 18/20... Step: 2440... Loss: 1.2490... Val Loss: 1.2968\n",
            "Epoch: 18/20... Step: 2480... Loss: 1.2328... Val Loss: 1.2959\n",
            "Epoch: 19/20... Step: 2520... Loss: 1.2423... Val Loss: 1.2916\n",
            "Epoch: 19/20... Step: 2560... Loss: 1.2372... Val Loss: 1.2939\n",
            "Epoch: 19/20... Step: 2600... Loss: 1.2173... Val Loss: 1.2914\n",
            "Epoch: 19/20... Step: 2640... Loss: 1.2256... Val Loss: 1.2847\n",
            "Epoch: 20/20... Step: 2680... Loss: 1.2225... Val Loss: 1.2838\n",
            "Epoch: 20/20... Step: 2720... Loss: 1.2063... Val Loss: 1.2850\n",
            "Epoch: 20/20... Step: 2760... Loss: 1.1897... Val Loss: 1.2809\n"
          ],
          "name": "stdout"
        }
      ]
    },
    {
      "cell_type": "markdown",
      "metadata": {
        "id": "yt4P7aCb99uj",
        "colab_type": "text"
      },
      "source": [
        "## Getting the best model\n",
        "\n",
        "To set your hyperparameters to get the best performance, you'll want to watch the training and validation losses. If your training loss is much lower than the validation loss, you're overfitting. Increase regularization (more dropout) or use a smaller network. If the training and validation losses are close, you're underfitting so you can increase the size of the network."
      ]
    },
    {
      "cell_type": "markdown",
      "metadata": {
        "id": "r3Ku5uLw99uk",
        "colab_type": "text"
      },
      "source": [
        "## Hyperparameters\n",
        "\n",
        "Here are the hyperparameters for the network.\n",
        "\n",
        "In defining the model:\n",
        "* `n_hidden` - The number of units in the hidden layers.\n",
        "* `n_layers` - Number of hidden LSTM layers to use.\n",
        "\n",
        "We assume that dropout probability and learning rate will be kept at the default, in this example.\n",
        "\n",
        "And in training:\n",
        "* `batch_size` - Number of sequences running through the network in one pass.\n",
        "* `seq_length` - Number of characters in the sequence the network is trained on. Larger is better typically, the network will learn more long range dependencies. But it takes longer to train. 100 is typically a good number here.\n",
        "* `lr` - Learning rate for training\n",
        "\n",
        "Here's some good advice from Andrej Karpathy on training the network. I'm going to copy it in here for your benefit, but also link to [where it originally came from](https://github.com/karpathy/char-rnn#tips-and-tricks).\n",
        "\n",
        "> ## Tips and Tricks\n",
        "\n",
        ">### Monitoring Validation Loss vs. Training Loss\n",
        ">If you're somewhat new to Machine Learning or Neural Networks it can take a bit of expertise to get good models. The most important quantity to keep track of is the difference between your training loss (printed during training) and the validation loss (printed once in a while when the RNN is run on the validation data (by default every 1000 iterations)). In particular:\n",
        "\n",
        "> - If your training loss is much lower than validation loss then this means the network might be **overfitting**. Solutions to this are to decrease your network size, or to increase dropout. For example you could try dropout of 0.5 and so on.\n",
        "> - If your training/validation loss are about equal then your model is **underfitting**. Increase the size of your model (either number of layers or the raw number of neurons per layer)\n",
        "\n",
        "> ### Approximate number of parameters\n",
        "\n",
        "> The two most important parameters that control the model are `n_hidden` and `n_layers`. I would advise that you always use `n_layers` of either 2/3. The `n_hidden` can be adjusted based on how much data you have. The two important quantities to keep track of here are:\n",
        "\n",
        "> - The number of parameters in your model. This is printed when you start training.\n",
        "> - The size of your dataset. 1MB file is approximately 1 million characters.\n",
        "\n",
        ">These two should be about the same order of magnitude. It's a little tricky to tell. Here are some examples:\n",
        "\n",
        "> - I have a 100MB dataset and I'm using the default parameter settings (which currently print 150K parameters). My data size is significantly larger (100 mil >> 0.15 mil), so I expect to heavily underfit. I am thinking I can comfortably afford to make `n_hidden` larger.\n",
        "> - I have a 10MB dataset and running a 10 million parameter model. I'm slightly nervous and I'm carefully monitoring my validation loss. If it's larger than my training loss then I may want to try to increase dropout a bit and see if that helps the validation loss.\n",
        "\n",
        "> ### Best models strategy\n",
        "\n",
        ">The winning strategy to obtaining very good models (if you have the compute time) is to always err on making the network larger (as large as you're willing to wait for it to compute) and then try different dropout values (between 0,1). Whatever model has the best validation performance (the loss, written in the checkpoint filename, low is good) is the one you should use in the end.\n",
        "\n",
        ">It is very common in deep learning to run many different models with many different hyperparameter settings, and in the end take whatever checkpoint gave the best validation performance.\n",
        "\n",
        ">By the way, the size of your training and validation splits are also parameters. Make sure you have a decent amount of data in your validation set or otherwise the validation performance will be noisy and not very informative."
      ]
    },
    {
      "cell_type": "markdown",
      "metadata": {
        "id": "ajCKpvlo99uk",
        "colab_type": "text"
      },
      "source": [
        "## Checkpoint\n",
        "\n",
        "After training, we'll save the model so we can load it again later if we need too. Here I'm saving the parameters needed to create the same architecture, the hidden layer hyperparameters and the text characters."
      ]
    },
    {
      "cell_type": "code",
      "metadata": {
        "id": "BmPwfcfu99ul",
        "colab_type": "code",
        "colab": {}
      },
      "source": [
        "# change the name, for saving multiple files\n",
        "model_name = 'rnn_x_epoch.net'\n",
        "\n",
        "checkpoint = {'n_hidden': net.n_hidden,\n",
        "              'n_layers': net.n_layers,\n",
        "              'state_dict': net.state_dict(),\n",
        "              'tokens': net.chars}\n",
        "\n",
        "with open(model_name, 'wb') as f:\n",
        "    torch.save(checkpoint, f)"
      ],
      "execution_count": 33,
      "outputs": []
    },
    {
      "cell_type": "markdown",
      "metadata": {
        "id": "gTaFUmUQ99up",
        "colab_type": "text"
      },
      "source": [
        "---\n",
        "## Making Predictions\n",
        "\n",
        "Now that the model is trained, we'll want to sample from it and make predictions about next characters! To sample, we pass in a character and have the network predict the next character. Then we take that character, pass it back in, and get another predicted character. Just keep doing this and you'll generate a bunch of text!\n",
        "\n",
        "### A note on the `predict`  function\n",
        "\n",
        "The output of our RNN is from a fully-connected layer and it outputs a **distribution of next-character scores**.\n",
        "\n",
        "> To actually get the next character, we apply a softmax function, which gives us a *probability* distribution that we can then sample to predict the next character.\n",
        "\n",
        "### Top K sampling\n",
        "\n",
        "Our predictions come from a categorical probability distribution over all the possible characters. We can make the sample text and make it more reasonable to handle (with less variables) by only considering some $K$ most probable characters. This will prevent the network from giving us completely absurd characters while allowing it to introduce some noise and randomness into the sampled text. Read more about [topk, here](https://pytorch.org/docs/stable/torch.html#torch.topk).\n"
      ]
    },
    {
      "cell_type": "code",
      "metadata": {
        "id": "telfWlsY99uq",
        "colab_type": "code",
        "colab": {}
      },
      "source": [
        "def predict(net, char, h=None, top_k=None):\n",
        "        ''' Given a character, predict the next character.\n",
        "            Returns the predicted character and the hidden state.\n",
        "        '''\n",
        "        \n",
        "        # tensor inputs\n",
        "        x = np.array([[net.char2int[char]]])\n",
        "        x = one_hot_encode(x, len(net.chars))\n",
        "        inputs = torch.from_numpy(x)\n",
        "        \n",
        "        if(train_on_gpu):\n",
        "            inputs = inputs.cuda()\n",
        "        \n",
        "        # detach hidden state from history\n",
        "        h = tuple([each.data for each in h])\n",
        "        # get the output of the model\n",
        "        out, h = net(inputs, h)\n",
        "\n",
        "        # get the character probabilities\n",
        "        p = F.softmax(out, dim=1).data\n",
        "        if(train_on_gpu):\n",
        "            p = p.cpu() # move to cpu\n",
        "        \n",
        "        # get top characters\n",
        "        if top_k is None:\n",
        "            top_ch = np.arange(len(net.chars))\n",
        "        else:\n",
        "            p, top_ch = p.topk(top_k)\n",
        "            top_ch = top_ch.numpy().squeeze()\n",
        "        \n",
        "        # select the likely next character with some element of randomness\n",
        "        p = p.numpy().squeeze()\n",
        "        char = np.random.choice(top_ch, p=p/p.sum())\n",
        "        \n",
        "        # return the encoded value of the predicted char and the hidden state\n",
        "        return net.int2char[char], h"
      ],
      "execution_count": 34,
      "outputs": []
    },
    {
      "cell_type": "markdown",
      "metadata": {
        "id": "k_5QncAi99uu",
        "colab_type": "text"
      },
      "source": [
        "### Priming and generating text \n",
        "\n",
        "Typically you'll want to prime the network so you can build up a hidden state. Otherwise the network will start out generating characters at random. In general the first bunch of characters will be a little rough since it hasn't built up a long history of characters to predict from."
      ]
    },
    {
      "cell_type": "code",
      "metadata": {
        "id": "38n2ZvrX99uv",
        "colab_type": "code",
        "colab": {}
      },
      "source": [
        "def sample(net, size, prime='The', top_k=None):\n",
        "        \n",
        "    if(train_on_gpu):\n",
        "        net.cuda()\n",
        "    else:\n",
        "        net.cpu()\n",
        "    \n",
        "    net.eval() # eval mode\n",
        "    \n",
        "    # First off, run through the prime characters\n",
        "    chars = [ch for ch in prime]\n",
        "    h = net.init_hidden(1)\n",
        "    for ch in prime:\n",
        "        char, h = predict(net, ch, h, top_k=top_k)\n",
        "\n",
        "    chars.append(char)\n",
        "    \n",
        "    # Now pass in the previous character and get a new one\n",
        "    for ii in range(size):\n",
        "        char, h = predict(net, chars[-1], h, top_k=top_k)\n",
        "        chars.append(char)\n",
        "\n",
        "    return ''.join(chars)"
      ],
      "execution_count": 35,
      "outputs": []
    },
    {
      "cell_type": "code",
      "metadata": {
        "id": "dyPBDUNi99u0",
        "colab_type": "code",
        "colab": {
          "base_uri": "https://localhost:8080/",
          "height": 357
        },
        "outputId": "3b24c36f-d263-4b37-fc18-e25292e37d64"
      },
      "source": [
        "print(sample(net, 1000, prime='Anna', top_k=5))"
      ],
      "execution_count": 36,
      "outputs": [
        {
          "output_type": "stream",
          "text": [
            "Anna,\n",
            "as though the diverce of silence, and we have too acquainting the\n",
            "summer, with an interests that he was not in his first divorce,\n",
            "they had taken a growing round in a leather of their subject when they arrived impossible to\n",
            "meet the pitch of his condition, but as he thought of all all the\n",
            "chird.\n",
            "\n",
            "\"What a supposition!\" answered Kertyin, smiling with her, who\n",
            "walked and said he felt in her, with a love woone to her. \"You're been thinking. And\n",
            "to that your heart true,\" said Levin.\n",
            "\n",
            "\"What are it was till the cerept with all the conversation?\"\n",
            "\n",
            "\"I don't sand, in and dishasping the pretard of the most disconsinting of\n",
            "mester with me, and he deveersed a supers of a picture, why, to be saying. They happened,\n",
            "interested you more and material in this companion,\" said Stepan\n",
            "Arkadyevitch. \"I should be in his armitate, and there's\n",
            "nothing of it. Here, and that is it was it, but I'm, as if I am! I am tried at\n",
            "the chold being badlition,\" said Stepan Arkadyevitch. \"I should have to dive some\n",
            "thing of\n"
          ],
          "name": "stdout"
        }
      ]
    },
    {
      "cell_type": "markdown",
      "metadata": {
        "id": "FGkPq7D599u7",
        "colab_type": "text"
      },
      "source": [
        "## Loading a checkpoint"
      ]
    },
    {
      "cell_type": "code",
      "metadata": {
        "id": "VxopBm4899u9",
        "colab_type": "code",
        "colab": {
          "base_uri": "https://localhost:8080/",
          "height": 34
        },
        "outputId": "70c2e24a-4606-432e-b3ab-adbdf6425408"
      },
      "source": [
        "# Here we have loaded in a model that trained over 20 epochs `rnn_20_epoch.net`\n",
        "with open('rnn_x_epoch.net', 'rb') as f:\n",
        "    checkpoint = torch.load(f)\n",
        "    \n",
        "loaded = CharRNN(checkpoint['tokens'], n_hidden=checkpoint['n_hidden'], n_layers=checkpoint['n_layers'])\n",
        "loaded.load_state_dict(checkpoint['state_dict'])"
      ],
      "execution_count": 37,
      "outputs": [
        {
          "output_type": "execute_result",
          "data": {
            "text/plain": [
              "<All keys matched successfully>"
            ]
          },
          "metadata": {
            "tags": []
          },
          "execution_count": 37
        }
      ]
    },
    {
      "cell_type": "code",
      "metadata": {
        "id": "h9BONFvR99vE",
        "colab_type": "code",
        "colab": {
          "base_uri": "https://localhost:8080/",
          "height": 816
        },
        "outputId": "726711cd-a76d-43c4-8ca6-2a91e4344b11"
      },
      "source": [
        "# Sample using a loaded model\n",
        "print(sample(loaded, 2000, top_k=5, prime=\"And Levin said\"))"
      ],
      "execution_count": 38,
      "outputs": [
        {
          "output_type": "stream",
          "text": [
            "And Levin said,\n",
            "though in his study with the chair and sight in the surm soon with which he\n",
            "was all sorry to his former principle than some people and the country.\n",
            "Though, and he should be the children and the sont and the stopped,\n",
            "her fach with the caressing--the mother't stands, was so meeting in\n",
            "a complete and anyway and some fars of time. And the strings of his\n",
            "cheart at entranse in his expect of such a moment and the streat, the considerous\n",
            "service hud and from the poor way and the starts wera being alrived, was net\n",
            "heart and for the same time in which he had been through the footman of\n",
            "the same time in which the same sincerable seemed to the continual face of the\n",
            "saciedy world there is no talk of the position in his soul, and as he ceased\n",
            "the sale, and to that it was in hore of the country.\n",
            "\n",
            "At the ching he taken the first distinctions, brider at the courters it\n",
            "said that steps to another hand there too seemed to the footman of the peasants\n",
            "that had not thinking of his face.\n",
            "\n",
            "\"I will some make a little significance with a personal fruend time, and the\n",
            "chears was in more into the cross, but I wanted to speak into the secret.\n",
            "And that you want to go and have all so to take in to me to his\n",
            "feeling, and that's so as to do it.\"\n",
            "\n",
            "\"I'll get your husband.\"\n",
            "\n",
            "\"Well, that's the carriage of his steps and succiess.\"\n",
            "\n",
            "\"What does he was, and I shall ston the case.\"\n",
            "\n",
            "The profes of the posett there was nothing, his elbows had been so\n",
            "made themselves in the sound of the princess's soft to be frowning and\n",
            "convinced a passite and some fasiness and firetisis strange friends to speak.\n",
            "\n",
            "His side and attracting the sick munch, and his eyes\n",
            "was instant, he had said his breath.\n",
            "\n",
            "\"All the children would be such of indepitable, to the thoughts that\n",
            "I should nave me that you say to her, and he'd a married finish of\n",
            "them.\n",
            "\n",
            "\n",
            "\n",
            "Chapter 18\n",
            "\n",
            "\n",
            "There was soon still heard he house to hear her to be there to\n",
            "hear her face, but he wanted at him. But the country steps or work\n",
            "all his sof the class that had been fan\n"
          ],
          "name": "stdout"
        }
      ]
    },
    {
      "cell_type": "code",
      "metadata": {
        "id": "GSrZF-tu99vL",
        "colab_type": "code",
        "colab": {}
      },
      "source": [
        ""
      ],
      "execution_count": 38,
      "outputs": []
    }
  ]
}